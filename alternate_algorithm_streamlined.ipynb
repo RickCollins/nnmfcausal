{
 "cells": [
  {
   "cell_type": "code",
   "execution_count": 311,
   "metadata": {},
   "outputs": [],
   "source": [
    "# In this version, we replace the logistic regressions in the first step with counting frequencies in the data.\n",
    "# With enough datapoints, this should converge to the same result as the logistic regression."
   ]
  },
  {
   "cell_type": "code",
   "execution_count": 312,
   "metadata": {},
   "outputs": [],
   "source": [
    "import torch\n",
    "import torch.nn as nn\n",
    "import torch.optim as optim\n",
    "from torch.utils.data import DataLoader, TensorDataset\n",
    "import numpy as np\n",
    "from utils import get_data, get_probabilities, estimate_q_Z_given_A, get_probabilities_one_hot\n",
    "from sklearn.decomposition import NMF  # Placeholder for volmin factorization\n",
    "from volmin_nmf import *\n",
    "from sklearn.linear_model import LogisticRegression as SklearnLogisticRegression\n",
    "from sklearn.ensemble import GradientBoostingClassifier, RandomForestClassifier\n",
    "from sklearn.neural_network import MLPClassifier\n",
    "import matplotlib.pyplot as plt\n",
    "import itertools\n",
    "import seaborn as sns\n",
    "from sklearn.linear_model import LogisticRegression\n",
    "from sklearn.preprocessing import StandardScaler\n",
    "from sklearn.metrics import classification_report, confusion_matrix\n",
    "from sklearn.model_selection import train_test_split\n",
    "from sklearn.metrics import accuracy_score, classification_report\n",
    "import pandas as pd\n",
    "from scipy.optimize import nnls\n",
    "from collections import defaultdict\n"
   ]
  },
  {
   "cell_type": "code",
   "execution_count": 313,
   "metadata": {},
   "outputs": [
    {
     "data": {
      "text/plain": [
       "<torch._C.Generator at 0x7f7f02be0ed0>"
      ]
     },
     "execution_count": 313,
     "metadata": {},
     "output_type": "execute_result"
    }
   ],
   "source": [
    "# ======================================================================================================================\n",
    "#                                                     Flags\n",
    "# ======================================================================================================================\n",
    "'''\n",
    "debug: Flag to print debug information such as the shape of the data, examples of data, confusion matrices etc.\n",
    "summary: Flag to print summary information such as accuracy of models and the final q(Y|a)\n",
    "'''\n",
    "debug = False\n",
    "summary = True\n",
    "alternative = True\n",
    "\n",
    "# ======================================================================================================================\n",
    "#                                           Data Generation Parameters\n",
    "# ======================================================================================================================\n",
    "'''\n",
    "These parameters are used to generate the data.\n",
    "p_source: Probability of a sample being from the source domain\n",
    "p_target: Probability of a sample being from the target domain\n",
    "total: Total number of samples\n",
    "factorisation_atol: Absolute tolerance for the factorisation\n",
    "specific_a_index: Index of the specific A value to be used\n",
    "num_classes_Y: Number of classes for Y\n",
    "num_classes_W: Number of classes for W\n",
    "num_features_Z: Number of features for Z\n",
    "num_features_A: Number of features for A\n",
    "'''\n",
    "p_source = 0.8\n",
    "p_target = 0.2\n",
    "total = 100000\n",
    "factorisation_atol = 1e-1\n",
    "specific_a_index = 0  # First value of A\n",
    "num_classes_Y = 2 \n",
    "num_classes_W = 2\n",
    "num_features_Z = 2\n",
    "num_features_A = 3\n",
    "num_epsilon = 2 # min(W_source.shape[1], Z_source.shape[1]) # Remember we need this to be less than the min of |W| and |Z|. Consider changing this as a hyperparameter\n",
    "\n",
    "# ======================================================================================================================\n",
    "#                                                NMF Parameters\n",
    "# ======================================================================================================================\n",
    "'''\n",
    "Parameters for the NMF factorisation\n",
    "nmf_method: Method for the NMF factorisation (currently uses https://github.com/bm424/mvcnmf/tree/master and activated by \"volmin_2\")\n",
    "w_vol: Volume regularisation parameter\n",
    "delta: Delta parameter for the NMF factorisation\n",
    "n_iter: Number of iterations for the NMF factorisation\n",
    "err_cut: Error cut-off for the NMF factorisation\n",
    "'''\n",
    "nmf_method = \"volmin_2\" \n",
    "w_vol = 0.01 #0.01\n",
    "delta = 1e-8\n",
    "n_iter = 100000\n",
    "err_cut = 1e-10\n",
    "\n",
    "# ======================================================================================================================\n",
    "#                                           Random Seed Initialisation\n",
    "# ======================================================================================================================\n",
    "np.random.seed(0)\n",
    "torch.manual_seed(0)"
   ]
  },
  {
   "cell_type": "code",
   "execution_count": 314,
   "metadata": {},
   "outputs": [],
   "source": [
    "# ======================================================================================================================\n",
    "#                                          Matrices for Data Generation\n",
    "# ======================================================================================================================\n",
    "'''\n",
    "These matrices are used to generate the data.\n",
    "theta_w_epsilon: Matrix for W given Epsilon\n",
    "theta_z_epsilon: Matrix for Z given Epsilon\n",
    "theta_a_z_epsilon: Matrix for A given Z and Epsilon\n",
    "theta_y_a_w_epsilon: Matrix for Y given A, W and Epsilon\n",
    "\n",
    "The dimensions of the variables are as follows:\n",
    "W: 2D\n",
    "Z: 2D\n",
    "A: 3D\n",
    "Y: 2D\n",
    "Epsilon: 2D\n",
    "'''\n",
    "theta_w_epsilon = torch.tensor([\n",
    "    [1],\n",
    "    [-1]\n",
    "   # [-2],\n",
    "   # [2]\n",
    "])\n",
    "\n",
    "theta_z_epsilon = torch.tensor([\n",
    "    [4],\n",
    "    [-5]\n",
    "       # [-2],\n",
    "   # [2]\n",
    "])\n",
    "\n",
    "theta_a_z_epsilon = torch.tensor([\n",
    "    [2.0, -2.0],  \n",
    "    [-2.0, 2.0],\n",
    "    [2.0, -2.0]\n",
    "]) \n",
    "\n",
    "# 1x5 matrix concatenating 1 hot of w and a. Negate when epsilon is 1. a is 3D and w is 2D\n",
    "theta_y_a_w_epsilon = torch.tensor([\n",
    "    #[10, 3, -5, -3, 3]\n",
    "    #[15, 10, -2, -3, 3]\n",
    "    #[10, 10, -2, -3, 3]\n",
    "    [5,5,-3,-4,-3]\n",
    "    #[3,3,-5,-4,2]\n",
    "]) \n"
   ]
  },
  {
   "cell_type": "code",
   "execution_count": 315,
   "metadata": {},
   "outputs": [],
   "source": [
    "# ======================================================================================================================\n",
    "#                                          Data Generation Functions\n",
    "# ======================================================================================================================\n",
    "\n",
    "def get_tuple_new(theta_w_epsilon,theta_z_epsilon,theta_a_z_epsilon,theta_y_a_w_epsilon, p=p_target):\n",
    "    '''\n",
    "    Generates a tuple of data points for the given parameters.\n",
    "\n",
    "    Parameters:\n",
    "    theta_w_epsilon: Matrix for W given Epsilon\n",
    "    theta_z_epsilon: Matrix for Z given Epsilon\n",
    "    theta_a_z_epsilon: Matrix for A given Z and Epsilon\n",
    "    theta_y_a_w_epsilon: Matrix for Y given A, W and Epsilon\n",
    "    p: Probability of a sample being from the target domain\n",
    "\n",
    "    Returns:\n",
    "    epsilon: Epsilon value via Bernoulli distribution\n",
    "    z: Z value via Bernoulli distribution and sigmoid function\n",
    "    w: W value via Bernoulli distribution and sigmoid function\n",
    "    a: A value via theta_a_z_epsilon @ z or -theta_a_z_epsilon @ z depending on epsilon. One-hot encoded\n",
    "    y: Y value via Bernoulli distribution and sigmoid function of theta_y_a_w_epsilon @ [w, a] or -theta_y_a_w_epsilon @ [w, a] depending on epsilon\n",
    "    '''\n",
    "\n",
    "    epsilon = torch.bernoulli(torch.tensor([p])).long() # (1,)\n",
    "    epsilon_one_hot = torch.nn.functional.one_hot(torch.tensor(epsilon), num_classes=2).squeeze() # (1,2)\n",
    "    # print(epsilon)\n",
    "    # print(\"epsilon one hot\",epsilon_one_hot)\n",
    "\n",
    "    # z = torch.bernoulli(torch.sigmoid(epsilon_one_hot @ theta_z_epsilon)).float().squeeze()\n",
    "    # w = torch.bernoulli(torch.sigmoid(epsilon_one_hot @ theta_w_epsilon)).float().squeeze() \n",
    "\n",
    "    ### EXPT START ###\n",
    "    # Calculate a single probability for z and w using sigmoid activation\n",
    "    z_prob = torch.sigmoid(epsilon_one_hot @ theta_z_epsilon).squeeze()  # Now a single probability\n",
    "    w_prob = torch.sigmoid(epsilon_one_hot @ theta_w_epsilon).squeeze()  # Now a single probability\n",
    "    # print(\"z_prob\",z_prob)\n",
    "    # print(\"w_prob\",w_prob)\n",
    "\n",
    "    # Sample z and w using Bernoulli distribution\n",
    "    z_sampled = torch.bernoulli(z_prob).long()  # Convert to long for one-hot encoding\n",
    "    w_sampled = torch.bernoulli(w_prob).long()\n",
    "\n",
    "    # Convert sampled z and w to one-hot vectors\n",
    "    z = torch.nn.functional.one_hot(z_sampled, num_classes=2).float()\n",
    "    w = torch.nn.functional.one_hot(w_sampled, num_classes=2).float()\n",
    "    # print(\"z\",z)\n",
    "    # print(\"w\",w)\n",
    "    ### EXPT END ###\n",
    "\n",
    "\n",
    "    # w given z and a should be perfect\n",
    "\n",
    "    a_logits = epsilon * theta_a_z_epsilon.float() @ z.float() + (epsilon-1) * theta_a_z_epsilon.float() @ z.float() #epsilon is 0 or 1, theta_a_z_epsilon is 3x2, z is [2]. So result is 3x1\n",
    "    a_prob = torch.softmax(a_logits, dim=0)  # Apply softmax to convert logits to probabilities\n",
    "    # if debug:\n",
    "    #     print(a_prob)   \n",
    "    a_category = torch.multinomial(a_prob, 1).squeeze()  # Sample from the categorical distribution\n",
    "    a = torch.nn.functional.one_hot(a_category, num_classes=3).float()  # Convert to one-hot encoding\n",
    "    # if debug:\n",
    "    #     print(a)\n",
    "    # a = torch.bernoulli(torch.sigmoid(a_logits)).float().squeeze() # a is size 3\n",
    "\n",
    "    # concatenate w and a\n",
    "    # then similar but use different matrix and w,a instead of z\n",
    "    wa = torch.cat((w, a), dim=0) # [5]\n",
    "\n",
    "    y_logits = epsilon * theta_y_a_w_epsilon @ wa.long() + (epsilon-1) * theta_y_a_w_epsilon @ wa.long() # y is a function of a, w and epsilon from the graph\n",
    "    #print(torch.sigmoid(y_logits))\n",
    "    y = torch.bernoulli(torch.sigmoid(y_logits).squeeze()).float()\n",
    "\n",
    "    return epsilon,z,w,a,y\n",
    "\n",
    "\n",
    "def get_dataset_new(theta_w_epsilon,theta_z_epsilon,theta_a_z_epsilon,theta_y_a_w_epsilon, p, total):\n",
    "    '''\n",
    "    Generates a dataset of data points for the given parameters, using the get_tuple_new function.\n",
    "\n",
    "    Parameters:\n",
    "    theta_w_epsilon: Matrix for W given Epsilon\n",
    "    theta_z_epsilon: Matrix for Z given Epsilon\n",
    "    theta_a_z_epsilon: Matrix for A given Z and Epsilon\n",
    "    theta_y_a_w_epsilon: Matrix for Y given A, W and Epsilon\n",
    "    p: Probability of a sample being from the target domain\n",
    "    total: Total number of samples\n",
    "\n",
    "    Returns:\n",
    "    U: List of Epsilon values\n",
    "    Z: List of Z values\n",
    "    W: List of W values\n",
    "    X: List of A values\n",
    "    Y: List of Y values\n",
    "    '''\n",
    "\n",
    "    Epsilon,Z,W,A,Y = [],[],[],[],[]\n",
    "    for _ in range(total):\n",
    "        u,z,w,x,y = get_tuple_new(theta_w_epsilon,theta_z_epsilon,theta_a_z_epsilon,theta_y_a_w_epsilon, p)\n",
    "        Epsilon.append(u)\n",
    "        Z.append(z)\n",
    "        W.append(w)\n",
    "        A.append(x)\n",
    "        Y.append(y)\n",
    "\n",
    "    return Epsilon,Z,W,A,Y\n",
    "\n",
    "\n",
    "def get_data_new(theta_w_epsilon,theta_z_epsilon,theta_a_z_epsilon,theta_y_a_w_epsilon, p_source, p_target, total):\n",
    "    '''\n",
    "    Returns the source and target datasets for the given parameters.\n",
    "\n",
    "    Parameters:\n",
    "    theta_w_epsilon: Matrix for W given Epsilon\n",
    "    theta_z_epsilon: Matrix for Z given Epsilon\n",
    "    theta_a_z_epsilon: Matrix for A given Z and Epsilon\n",
    "    theta_y_a_w_epsilon: Matrix for Y given A, W and Epsilon\n",
    "    p_source: Probability of a sample being from the source domain\n",
    "    p_target: Probability of a sample being from the target domain\n",
    "    total: Total number of samples\n",
    "\n",
    "    Returns:\n",
    "    (Z_source, U_source, W_source, X_source, Y_source): Source dataset\n",
    "    (Z_target, U_target, W_target, X_target, Y_target): Target dataset\n",
    "    '''\n",
    "    \n",
    "    # Source distribution data\n",
    "    epsilon_source, Z_source, W_source, A_source, Y_source = get_dataset_new(theta_w_epsilon,theta_z_epsilon,theta_a_z_epsilon,theta_y_a_w_epsilon, p_source, total)\n",
    "    \n",
    "    # Target distribution data\n",
    "    epsilon_target, Z_target, W_target, A_target, Y_target = get_dataset_new(theta_w_epsilon,theta_z_epsilon,theta_a_z_epsilon,theta_y_a_w_epsilon, p_target, total)\n",
    "    \n",
    "    return (Z_source, epsilon_source, W_source, A_source, Y_source), \\\n",
    "           (Z_target, epsilon_target, W_target, A_target, Y_target)"
   ]
  },
  {
   "cell_type": "code",
   "execution_count": 316,
   "metadata": {},
   "outputs": [
    {
     "name": "stderr",
     "output_type": "stream",
     "text": [
      "/var/folders/tf/g242212x4tsbkxq6k9xkfvn80000gn/T/ipykernel_20352/1670796413.py:25: UserWarning: To copy construct from a tensor, it is recommended to use sourceTensor.clone().detach() or sourceTensor.clone().detach().requires_grad_(True), rather than torch.tensor(sourceTensor).\n",
      "  epsilon_one_hot = torch.nn.functional.one_hot(torch.tensor(epsilon), num_classes=2).squeeze() # (1,2)\n"
     ]
    }
   ],
   "source": [
    "# Generate the source and target datasets\n",
    "source_data, target_data = get_data_new(theta_w_epsilon,theta_z_epsilon,theta_a_z_epsilon,theta_y_a_w_epsilon, p_source, p_target, total)\n",
    "Z_source, epsilon_source, W_source, A_source, Y_source = source_data\n",
    "Z_target, epsilon_target, W_target, A_target, Y_target = target_data"
   ]
  },
  {
   "cell_type": "code",
   "execution_count": 317,
   "metadata": {},
   "outputs": [],
   "source": [
    "# Split source data into training, validation, and test sets\n",
    "A_train_val_source, A_test_source, Z_train_val_source, Z_test_source, W_train_val_source, W_test_source, Y_train_val_source, Y_test_source, epsilon_train_val_source, epsilon_test_source = train_test_split(\n",
    "    A_source, Z_source, W_source, Y_source, epsilon_source, test_size=0.2, random_state=42)\n",
    "A_train_source, A_val_source, Z_train_source, Z_val_source, W_train_source, W_val_source, Y_train_source, Y_val_source, epsilon_train_source, epsilon_val_source = train_test_split(\n",
    "    A_train_val_source, Z_train_val_source, W_train_val_source, Y_train_val_source, epsilon_train_val_source, test_size=0.25, random_state=42)\n",
    "\n"
   ]
  },
  {
   "cell_type": "code",
   "execution_count": 318,
   "metadata": {},
   "outputs": [],
   "source": [
    "# Split target data into training, validation, and test sets\n",
    "A_train_val_target, A_test_target, Z_train_val_target, Z_test_target, W_train_val_target, W_test_target, Y_train_val_target, Y_test_target, epsilon_train_val_target, epsilon_test_target = train_test_split(\n",
    "    A_target, Z_target, W_target, Y_target, epsilon_target, test_size=0.2, random_state=42)\n",
    "A_train_target, A_val_target, Z_train_target, Z_val_target, W_train_target, W_val_target, Y_train_target, Y_val_target, epsilon_train_target, epsilon_val_target = train_test_split(\n",
    "    A_train_val_target, Z_train_val_target, W_train_val_target, Y_train_val_target, epsilon_train_val_target, test_size=0.25, random_state=42)\n"
   ]
  },
  {
   "cell_type": "code",
   "execution_count": 319,
   "metadata": {},
   "outputs": [],
   "source": [
    "# So the sets are of the form:\n",
    "# Training: A_train_source\n",
    "# Validation: A_val_source\n",
    "# Test: A_test_source"
   ]
  },
  {
   "cell_type": "code",
   "execution_count": 320,
   "metadata": {},
   "outputs": [],
   "source": [
    "if debug:\n",
    "    sum(Y_source)"
   ]
  },
  {
   "cell_type": "code",
   "execution_count": 321,
   "metadata": {},
   "outputs": [],
   "source": [
    "if debug:\n",
    "    print(\"Y_source.shape\", len(Y_source))\n",
    "    print(\"W_source.shape\", len(W_source))\n",
    "    print(\"A_source.shape\", len(A_source))\n",
    "    print(\"Z_source.shape\", len(Z_source))\n",
    "    print(\"epsilon_source.shape\", len(epsilon_source))\n",
    "\n",
    "    print(\"Y_source\", Y_source)\n",
    "    print(\"W_source\", W_source)\n",
    "    print(\"A_source\", A_source)\n",
    "    print(\"Z_source\", Z_source)\n",
    "    print(\"epsilon_source\", epsilon_source)"
   ]
  },
  {
   "cell_type": "code",
   "execution_count": 322,
   "metadata": {},
   "outputs": [],
   "source": [
    "sum_epsilon = np.sum(epsilon_source)\n",
    "if debug:\n",
    "    print(\"Sum of epsilon_source:\", sum_epsilon.item())\n",
    "\n",
    "sum_Y = np.sum(Y_source)\n",
    "if debug:\n",
    "    print(\"Sum of Y_source:\", sum_Y.item())"
   ]
  },
  {
   "cell_type": "code",
   "execution_count": 323,
   "metadata": {},
   "outputs": [],
   "source": [
    "# =============================================================================\n",
    "# Step 1: Estimate p(Y|Z,a) and p(W|Z,a)\n",
    "# =============================================================================\n",
    "\n",
    "# Train model to estimate p(Y|Z,a)\n",
    "# By stacking with A, we condition on A by including all values of A in the input\n",
    "\n",
    "# AMENDED TO USE TRAIN TEST SPLIT\n",
    "ZA_source = np.hstack((Z_train_source, A_train_source)) \n",
    "# ZA_source = np.hstack((Z_source, A_source)) \n",
    "\n",
    "\n",
    "# if step1_debug:\n",
    "#     print(\"ZA_source.shape\", ZA_source.shape)  # Debug print statement\n",
    "#     print(\"ZA_source\", ZA_source)  # Debug print statement\n",
    "\n",
    "############### LOGISTIC REGRESSION VERSION ###############\n",
    "\n",
    "#model_Y = LogisticRegression(input_dim=ZA_source.shape[1], num_classes=2)\n",
    "#model_Y.train(torch.tensor(ZA_source, dtype=torch.float32), torch.tensor(Y_source, dtype=torch.float32))\n",
    "\n",
    "# model_Y = LogisticRegressionGD(input_dim=ZA_source.shape[1], num_classes=Y_source.shape[1])\n",
    "# model_Y.train_model(torch.tensor(ZA_source, dtype=torch.float32), torch.tensor(Y_source, dtype=torch.float32), learning_rate=0.01, epochs=100, verbose=True)\n",
    "# p_Y_given_ZA = get_probabilities(model_Y, Z_source, A_source)"
   ]
  },
  {
   "cell_type": "code",
   "execution_count": 324,
   "metadata": {},
   "outputs": [
    {
     "name": "stdout",
     "output_type": "stream",
     "text": [
      "Accuracy of model_Y on training set: 0.8741\n"
     ]
    }
   ],
   "source": [
    "if debug:\n",
    "    ZA_source\n",
    "\n",
    "##### LOGISTIC REGRESSION #####\n",
    "model_Y = SklearnLogisticRegression(max_iter=1000)\n",
    "model_Y.fit(ZA_source, Y_train_source)\n",
    "\n",
    "##### GRAIDENT BOOSTING #####\n",
    "# model_Y = GradientBoostingClassifier(n_estimators=1000, learning_rate=0.01, max_depth=5, random_state=0)\n",
    "# model_Y.fit(ZA_source, Y_train_source)\n",
    "\n",
    "##### RANDOM FOREST #####\n",
    "# model_Y = RandomForestClassifier(n_estimators=100, max_depth=3, random_state=0)\n",
    "# model_Y.fit(ZA_source, Y_train_source)\n",
    "\n",
    "##### NEURAL NETWORK #####\n",
    "# model_Y = MLPClassifier(hidden_layer_sizes=(8, 4), max_iter=1000)\n",
    "# model_Y.fit(ZA_source, Y_train_source)\n",
    "\n",
    "if debug:\n",
    "    print(ZA_source)\n",
    "    print(Y_source)\n",
    "Y_train_pred = model_Y.predict(ZA_source)\n",
    "if debug:\n",
    "    print(\"Y_train_pred\",Y_train_pred)\n",
    "\n",
    "Y_train_true = Y_train_source\n",
    "accuracy_Y_train = np.mean(Y_train_pred == Y_train_source)\n",
    "print(f\"Accuracy of model_Y on training set: {accuracy_Y_train:.4f}\")\n"
   ]
  },
  {
   "cell_type": "code",
   "execution_count": 325,
   "metadata": {},
   "outputs": [],
   "source": [
    "cm = confusion_matrix(Y_train_source, model_Y.predict(ZA_source))\n",
    "if debug:\n",
    "    print(\"Classification Report:\")\n",
    "    print(classification_report(Y_train_source, model_Y.predict(ZA_source)))"
   ]
  },
  {
   "cell_type": "code",
   "execution_count": 326,
   "metadata": {},
   "outputs": [],
   "source": [
    "if debug:    \n",
    "    plt.figure(figsize=(8, 6))\n",
    "    sns.heatmap(cm, annot=True, fmt='d', cmap='Blues', xticklabels=['Predicted 0', 'Predicted 1'], yticklabels=['Actual 0', 'Actual 1'])\n",
    "    plt.xlabel('Predicted')\n",
    "    plt.ylabel('Actual')\n",
    "    plt.title('Confusion Matrix for Y')\n",
    "    plt.show()"
   ]
  },
  {
   "cell_type": "code",
   "execution_count": 327,
   "metadata": {},
   "outputs": [],
   "source": [
    "# Confusion matrix for validation set\n",
    "\n",
    "if debug:    \n",
    "    # VALIDATION SET\n",
    "    # Combine Z and A for the validation set\n",
    "    ZA_source_validation = np.hstack((Z_val_source, A_val_source)) \n",
    "\n",
    "    # Predict Y on the validation set\n",
    "    Y_val_pred = model_Y.predict(ZA_source_validation)\n",
    "    print(\"Y_val_pred:\", Y_val_pred)\n",
    "\n",
    "    # True Y values for the validation set\n",
    "    Y_val_true = Y_val_source\n",
    "\n",
    "    # Calculate accuracy on the validation set\n",
    "    accuracy_Y_val = np.mean(Y_val_pred == Y_val_true)\n",
    "    print(f\"Accuracy of model_Y on validation set: {accuracy_Y_val:.4f}\")\n",
    "    # Calculate confusion matrix for the validation set\n",
    "    cm_val = confusion_matrix(Y_val_true, Y_val_pred)\n",
    "    print(\"Confusion Matrix (Validation):\")\n",
    "    print(cm_val)\n",
    "\n",
    "    # Print classification report for the validation set\n",
    "    print(\"Classification Report (Validation):\")\n",
    "    print(classification_report(Y_val_true, Y_val_pred))\n",
    "    plt.figure(figsize=(8, 6))\n",
    "    sns.heatmap(cm_val, annot=True, fmt='d', cmap='Blues', xticklabels=['Predicted 0', 'Predicted 1'], yticklabels=['Actual 0', 'Actual 1'])\n",
    "    plt.xlabel('Predicted')\n",
    "    plt.ylabel('Actual')\n",
    "    plt.title('Confusion Matrix for Y')\n",
    "    plt.show()"
   ]
  },
  {
   "cell_type": "code",
   "execution_count": 328,
   "metadata": {},
   "outputs": [],
   "source": [
    "# Confusion matrix for validation set\n",
    "\n",
    "# Combine Z and A for the test set\n",
    "ZA_source_test = np.hstack((Z_test_source, A_test_source))\n",
    "\n",
    "# Predict Y on the test set\n",
    "Y_test_pred = model_Y.predict(ZA_source_test)\n",
    "if debug:\n",
    "    print(\"Y_test_pred:\", Y_test_pred)\n",
    "\n",
    "# True Y values for the test set\n",
    "Y_test_true = Y_test_source\n",
    "\n",
    "# Calculate accuracy on the test set\n",
    "accuracy_Y_test = np.mean(Y_test_pred == Y_test_true)\n",
    "if debug:\n",
    "    print(f\"Accuracy of model_Y on test set: {accuracy_Y_test:.4f}\")\n",
    "\n",
    "if debug:\n",
    "    # Calculate confusion matrix for the test set\n",
    "    cm_test = confusion_matrix(Y_test_true, Y_test_pred)\n",
    "    print(\"Confusion Matrix (Test):\")\n",
    "    print(cm_test)\n",
    "\n",
    "    # Print classification report for the test set\n",
    "    print(\"Classification Report (Test):\")\n",
    "    print(classification_report(Y_test_true, Y_test_pred))\n",
    "\n",
    "    # Plot confusion matrix\n",
    "    plt.figure(figsize=(8, 6))\n",
    "    sns.heatmap(cm_test, annot=True, fmt='d', cmap='Blues', xticklabels=['Predicted 0', 'Predicted 1'], yticklabels=['Actual 0', 'Actual 1'])\n",
    "    plt.xlabel('Predicted')\n",
    "    plt.ylabel('Actual')\n",
    "    plt.title('Confusion Matrix for Y (Test Set)')\n",
    "    plt.show()\n"
   ]
  },
  {
   "cell_type": "code",
   "execution_count": 329,
   "metadata": {},
   "outputs": [],
   "source": [
    "#convert to binary\n",
    "\n",
    "def tensor_to_binary(tensor):\n",
    "    return 1 if tensor[0] == 1 else 0\n",
    "\n",
    "# Convert the list of tensors to a list of binary labels\n",
    "binary_labels = [tensor_to_binary(t) for t in W_train_source]\n",
    "\n",
    "# Convert to numpy array (optional)\n",
    "binary_labels_array = np.array(binary_labels)"
   ]
  },
  {
   "cell_type": "code",
   "execution_count": 330,
   "metadata": {},
   "outputs": [
    {
     "name": "stdout",
     "output_type": "stream",
     "text": [
      "Accuracy of model_W on training set: 0.7276\n"
     ]
    }
   ],
   "source": [
    "############### LOGISTIC REGRESSION VERSION ###############\n",
    "model_W= SklearnLogisticRegression(max_iter=1000)\n",
    "model_W.fit(ZA_source, binary_labels_array)\n",
    "\n",
    "W_train_pred = model_W.predict(ZA_source)\n",
    "if debug:\n",
    "    print(\"W_train_pred\",W_train_pred)\n",
    "\n",
    "W_train_true = W_source\n",
    "accuracy_W_train = np.mean(W_train_pred == binary_labels_array)\n",
    "print(f\"Accuracy of model_W on training set: {accuracy_W_train:.4f}\")\n",
    "\n",
    "############### NEURAL NETWORK VERSION ###############\n",
    "\n",
    "# Define and train the neural network\n",
    "# input_dim = ZA_source.shape[1]\n",
    "# model_W = SimpleNN(input_dim, num_classes_W)\n",
    "# train_nn(model_W, torch.tensor(ZA_source, dtype=torch.float32), W_source_indices, learning_rate=0.001, epochs=500, batch_size=16)\n",
    "\n",
    "# # Evaluate the model\n",
    "# accuracy_nn = eval_nn(model_W, torch.tensor(ZA_source, dtype=torch.float32), W_source_indices)\n",
    "# print(f'Accuracy of neural network model on training set: {accuracy_nn:.4f}')\n"
   ]
  },
  {
   "cell_type": "code",
   "execution_count": 331,
   "metadata": {},
   "outputs": [],
   "source": [
    "cm_w = confusion_matrix(binary_labels_array, model_W.predict(ZA_source))\n",
    "if debug:    \n",
    "    print(\"Classification Report for W:\")\n",
    "    print(classification_report(binary_labels_array, model_W.predict(ZA_source)))\n",
    "\n",
    "if debug:  \n",
    "    plt.figure(figsize=(8, 6))\n",
    "    sns.heatmap(cm_w, annot=True, fmt='d', cmap='Blues', xticklabels=['Class 0', 'Class 1'], yticklabels=['Class 0', 'Class 1'])\n",
    "    plt.xlabel('Predicted')\n",
    "    plt.ylabel('Actual')\n",
    "    plt.title('Confusion Matrix for W')\n",
    "    plt.show()"
   ]
  },
  {
   "cell_type": "code",
   "execution_count": 332,
   "metadata": {},
   "outputs": [
    {
     "name": "stdout",
     "output_type": "stream",
     "text": [
      "Accuracy of model_W on test set: 0.7255\n"
     ]
    }
   ],
   "source": [
    "# Test Set\n",
    "\n",
    "# Predict Y on the test set\n",
    "W_test_pred = model_W.predict(ZA_source_test)\n",
    "if debug:\n",
    "    print(\"W_test_pred:\", W_test_pred)\n",
    "\n",
    "# True Y values for the test set\n",
    "W_test_true = np.array([tensor_to_binary(t) for t in W_test_source])\n",
    "\n",
    "# Calculate accuracy on the test set\n",
    "accuracy_W_test = np.mean(W_test_pred == W_test_true)\n",
    "print(f\"Accuracy of model_W on test set: {accuracy_W_test:.4f}\")\n",
    "\n",
    "if debug:\n",
    "    # Calculate confusion matrix for the test set\n",
    "    cm_test_W = confusion_matrix(W_test_true, W_test_pred)\n",
    "    print(\"Confusion Matrix (Test):\")\n",
    "    print(cm_test_W)\n",
    "\n",
    "    # Print classification report for the test set\n",
    "    print(\"Classification Report (Test):\")\n",
    "    print(classification_report(W_test_true, W_test_pred))\n",
    "\n",
    "    # Plot confusion matrix\n",
    "    plt.figure(figsize=(8, 6))\n",
    "    sns.heatmap(cm_test_W, annot=True, fmt='d', cmap='Blues', xticklabels=['Predicted 0', 'Predicted 1'], yticklabels=['Actual 0', 'Actual 1'])\n",
    "    plt.xlabel('Predicted')\n",
    "    plt.ylabel('Actual')\n",
    "    plt.title('Confusion Matrix for W (Test Set)')\n",
    "    plt.show()\n"
   ]
  },
  {
   "cell_type": "code",
   "execution_count": 333,
   "metadata": {},
   "outputs": [
    {
     "name": "stdout",
     "output_type": "stream",
     "text": [
      "Count W=0, epsilon=0: 8907\n",
      "Count W=1, epsilon=0: 3294\n",
      "Count W=0, epsilon=1: 12820\n",
      "Count W=1, epsilon=1: 34979\n"
     ]
    }
   ],
   "source": [
    "\n",
    "np.array(binary_labels_array) # this is the true W\n",
    "np.array(epsilon_source).squeeze() # this is true epsilon\n",
    "count_W_0_eps_0 = np.sum((np.array(binary_labels_array) == 0) & (np.array(epsilon_train_source).squeeze() == 0))\n",
    "count_W_1_eps_0 = np.sum((np.array(binary_labels_array) == 1) & (np.array(epsilon_train_source).squeeze() == 0))\n",
    "count_W_0_eps_1 = np.sum((np.array(binary_labels_array) == 0) & (np.array(epsilon_train_source).squeeze() == 1))\n",
    "count_W_1_eps_1 = np.sum((np.array(binary_labels_array) == 1) & (np.array(epsilon_train_source).squeeze() == 1))\n",
    "print(\"Count W=0, epsilon=0:\", count_W_0_eps_0)\n",
    "print(\"Count W=1, epsilon=0:\", count_W_1_eps_0)\n",
    "print(\"Count W=0, epsilon=1:\", count_W_0_eps_1)\n",
    "print(\"Count W=1, epsilon=1:\", count_W_1_eps_1)\n",
    "\n",
    "# Total counts for eps = 0 and eps = 1\n",
    "total_eps_0 = np.sum(np.array(epsilon_train_source).squeeze() == 0)\n",
    "total_eps_1 = np.sum(np.array(epsilon_train_source).squeeze() == 1)\n",
    "\n",
    "# Calculate the probabilities\n",
    "P_W_0_given_eps_0 = count_W_0_eps_0 / total_eps_0 if total_eps_0 > 0 else 0\n",
    "P_W_1_given_eps_0 = count_W_1_eps_0 / total_eps_0 if total_eps_0 > 0 else 0\n",
    "P_W_0_given_eps_1 = count_W_0_eps_1 / total_eps_1 if total_eps_1 > 0 else 0\n",
    "P_W_1_given_eps_1 = count_W_1_eps_1 / total_eps_1 if total_eps_1 > 0 else 0\n",
    "\n",
    "if debug:\n",
    "    print(\"Count W=0, epsilon=0:\", count_W_0_eps_0)\n",
    "    print(\"Count W=1, epsilon=0:\", count_W_1_eps_0)\n",
    "    print(\"Count W=0, epsilon=1:\", count_W_0_eps_1)\n",
    "    print(\"Count W=1, epsilon=1:\", count_W_1_eps_1)\n",
    "    print(\"P(W=0 | epsilon=0):\", P_W_0_given_eps_0)\n",
    "    print(\"P(W=1 | epsilon=0):\", P_W_1_given_eps_0)\n",
    "    print(\"P(W=0 | epsilon=1):\", P_W_0_given_eps_1)\n",
    "    print(\"P(W=1 | epsilon=1):\", P_W_1_given_eps_1)\n",
    "    print(count_W_0_eps_0/(count_W_0_eps_0+count_W_1_eps_0+count_W_0_eps_1+count_W_1_eps_1))\n",
    "    print(count_W_1_eps_0/(count_W_0_eps_0+count_W_1_eps_0+count_W_0_eps_1+count_W_1_eps_1))\n",
    "    print(count_W_0_eps_1/(count_W_0_eps_0+count_W_1_eps_0+count_W_0_eps_1+count_W_1_eps_1))\n",
    "    print(count_W_1_eps_1/(count_W_0_eps_0+count_W_1_eps_0+count_W_0_eps_1+count_W_1_eps_1))\n",
    "\n"
   ]
  },
  {
   "cell_type": "code",
   "execution_count": 334,
   "metadata": {},
   "outputs": [
    {
     "name": "stdout",
     "output_type": "stream",
     "text": [
      "A_index: 0\n",
      "P(Y=0 | epsilon=0, A=0): 0.8802\n",
      "P(Y=1 | epsilon=0, A=0): 0.1198\n",
      "P(Y=0 | epsilon=1, A=0): 0.1174\n",
      "P(Y=1 | epsilon=1, A=0): 0.8826\n",
      "A_index: 1\n",
      "P(Y=0 | epsilon=0, A=1): 0.7509\n",
      "P(Y=1 | epsilon=0, A=1): 0.2491\n",
      "P(Y=0 | epsilon=1, A=1): 0.2588\n",
      "P(Y=1 | epsilon=1, A=1): 0.7412\n",
      "A_index: 2\n",
      "P(Y=0 | epsilon=0, A=2): 0.8749\n",
      "P(Y=1 | epsilon=0, A=2): 0.1251\n",
      "P(Y=0 | epsilon=1, A=2): 0.1176\n",
      "P(Y=1 | epsilon=1, A=2): 0.8824\n"
     ]
    }
   ],
   "source": [
    "\n",
    "# Example inputs (replace these with your actual data)\n",
    "# Assuming Y_source, epsilon_source, and A_source are lists or arrays of tensors or numpy arrays\n",
    "\n",
    "# Convert your data into numpy arrays for easier handling\n",
    "Y_array = np.array([y.item() for y in Y_source])  # Assuming Y_source is a list of tensors\n",
    "epsilon_array = np.array([e.item() for e in epsilon_source])  # Assuming epsilon_source is a list of tensors\n",
    "A_array = np.array([a.numpy() for a in A_source])  # Assuming A_source is a list of one-hot encoded tensors\n",
    "\n",
    "# Initialize counters\n",
    "count_Y_0_eps_0_A = np.zeros(A_array.shape[1])\n",
    "count_Y_1_eps_0_A = np.zeros(A_array.shape[1])\n",
    "count_Y_0_eps_1_A = np.zeros(A_array.shape[1])\n",
    "count_Y_1_eps_1_A = np.zeros(A_array.shape[1])\n",
    "\n",
    "# Loop through the data to count occurrences\n",
    "for i in range(len(Y_array)):\n",
    "    epsilon = epsilon_array[i]\n",
    "    A_index = np.argmax(A_array[i])  # Find which 'A' index is 1\n",
    "    Y_value = Y_array[i]\n",
    "    \n",
    "    if epsilon == 0:\n",
    "        if Y_value == 0:\n",
    "            count_Y_0_eps_0_A[A_index] += 1\n",
    "        else:\n",
    "            count_Y_1_eps_0_A[A_index] += 1\n",
    "    else:\n",
    "        if Y_value == 0:\n",
    "            count_Y_0_eps_1_A[A_index] += 1\n",
    "        else:\n",
    "            count_Y_1_eps_1_A[A_index] += 1\n",
    "\n",
    "# Calculate total counts for normalization\n",
    "total_counts_eps_0_A = count_Y_0_eps_0_A + count_Y_1_eps_0_A\n",
    "total_counts_eps_1_A = count_Y_0_eps_1_A + count_Y_1_eps_1_A\n",
    "\n",
    "# Calculate probabilities P(Y|epsilon,A)\n",
    "P_Y_0_given_eps_0_A = count_Y_0_eps_0_A / total_counts_eps_0_A\n",
    "P_Y_1_given_eps_0_A = count_Y_1_eps_0_A / total_counts_eps_0_A\n",
    "P_Y_0_given_eps_1_A = count_Y_0_eps_1_A / total_counts_eps_1_A\n",
    "P_Y_1_given_eps_1_A = count_Y_1_eps_1_A / total_counts_eps_1_A\n",
    "\n",
    "# Display the probabilities\n",
    "for a_index in range(A_array.shape[1]):\n",
    "    print(f\"A_index: {a_index}\")\n",
    "    print(f\"P(Y=0 | epsilon=0, A={a_index}): {P_Y_0_given_eps_0_A[a_index]:.4f}\")\n",
    "    print(f\"P(Y=1 | epsilon=0, A={a_index}): {P_Y_1_given_eps_0_A[a_index]:.4f}\")\n",
    "    print(f\"P(Y=0 | epsilon=1, A={a_index}): {P_Y_0_given_eps_1_A[a_index]:.4f}\")\n",
    "    print(f\"P(Y=1 | epsilon=1, A={a_index}): {P_Y_1_given_eps_1_A[a_index]:.4f}\")\n"
   ]
  },
  {
   "cell_type": "code",
   "execution_count": 335,
   "metadata": {},
   "outputs": [],
   "source": [
    "# First 5 entries of Z_source\n",
    "\n",
    "if debug:\n",
    "    Z_source[:5]"
   ]
  },
  {
   "cell_type": "code",
   "execution_count": 336,
   "metadata": {},
   "outputs": [],
   "source": [
    "# First 5 entries of A_source\n",
    "\n",
    "if debug:\n",
    "    A_source[:5]"
   ]
  },
  {
   "cell_type": "code",
   "execution_count": 337,
   "metadata": {},
   "outputs": [],
   "source": [
    "def get_probabilities(model, Z_source, A_source):\n",
    "    '''\n",
    "    Function to get the probabilities of Y given all possible Z and A and put them in a 3D array.\n",
    "    '''\n",
    "\n",
    "    # Convert lists of tensors to numpy arrays\n",
    "    Z = np.array([z.numpy() for z in Z_source])\n",
    "    A = np.array([a.numpy() for a in A_source])\n",
    "\n",
    "    num_Z = Z.shape[1]\n",
    "    num_A = A.shape[1]\n",
    "\n",
    "    # Generate all possible one-hot vectors for Z and A\n",
    "    possible_Z = np.eye(num_Z)\n",
    "    possible_A = np.eye(num_A)\n",
    "    \n",
    "    probabilities = []\n",
    "    \n",
    "    for z in possible_Z:\n",
    "        for a in possible_A:\n",
    "            ZA = np.hstack((z.reshape(1, -1), a.reshape(1, -1)))\n",
    "            # Flatten ZA for the MLPClassifier\n",
    "            ZA_flat = ZA.flatten().reshape(1, -1)\n",
    "            print(ZA_flat)\n",
    "            prob = model.predict_proba(ZA_flat)[0]\n",
    "            print(prob)\n",
    "            probabilities.append(prob)\n",
    "    \n",
    "    probabilities = np.array(probabilities).reshape((num_Z, num_A, 2))\n",
    "    \n",
    "    return probabilities"
   ]
  },
  {
   "cell_type": "code",
   "execution_count": null,
   "metadata": {},
   "outputs": [],
   "source": []
  },
  {
   "cell_type": "code",
   "execution_count": 338,
   "metadata": {},
   "outputs": [
    {
     "name": "stdout",
     "output_type": "stream",
     "text": [
      "[[1. 0. 1. 0. 0.]]\n",
      "[0.12380886 0.87619114]\n",
      "[[1. 0. 0. 1. 0.]]\n",
      "[0.12762858 0.87237142]\n",
      "[[1. 0. 0. 0. 1.]]\n",
      "[0.11935031 0.88064969]\n",
      "[[0. 1. 1. 0. 0.]]\n",
      "[0.86011185 0.13988815]\n",
      "[[0. 1. 0. 1. 0.]]\n",
      "[0.86424137 0.13575863]\n",
      "[[0. 1. 0. 0. 1.]]\n",
      "[0.85501238 0.14498762]\n",
      "This is p_Y_given_ZA, so for each possible Z and A\n",
      "[[[0.12380886 0.87619114]\n",
      "  [0.12762858 0.87237142]\n",
      "  [0.11935031 0.88064969]]\n",
      "\n",
      " [[0.86011185 0.13988815]\n",
      "  [0.86424137 0.13575863]\n",
      "  [0.85501238 0.14498762]]]\n",
      "\n",
      "\n",
      "This is p_Y_given_ZA, but for a specific A = a\n",
      "[[0.12380886 0.87619114]\n",
      " [0.86011185 0.13988815]]\n"
     ]
    }
   ],
   "source": [
    "# Prints the probabilities of Y given Z and A, and probability of Y given Z and A for a specific A = a value\n",
    "\n",
    "p_Y_given_ZA = get_probabilities(model_Y, Z_source, A_source)\n",
    "print(\"This is p_Y_given_ZA, so for each possible Z and A\")\n",
    "print(p_Y_given_ZA)\n",
    "p_Y_given_ZA_matrix = p_Y_given_ZA[:, specific_a_index, :]\n",
    "print(\"\")\n",
    "print(\"\")\n",
    "print(\"This is p_Y_given_ZA, but for a specific A = a\")\n",
    "print(p_Y_given_ZA_matrix)"
   ]
  },
  {
   "cell_type": "code",
   "execution_count": 339,
   "metadata": {},
   "outputs": [
    {
     "name": "stdout",
     "output_type": "stream",
     "text": [
      "[[1. 0. 1. 0. 0.]]\n",
      "[0.2749111 0.7250889]\n",
      "[[1. 0. 0. 1. 0.]]\n",
      "[0.2503635 0.7496365]\n",
      "[[1. 0. 0. 0. 1.]]\n",
      "[0.26585548 0.73414452]\n",
      "[[0. 1. 1. 0. 0.]]\n",
      "[0.72425409 0.27574591]\n",
      "[[0. 1. 0. 1. 0.]]\n",
      "[0.69821967 0.30178033]\n",
      "[[0. 1. 0. 0. 1.]]\n",
      "[0.71499237 0.28500763]\n",
      "This is p_W_given_ZA, so for each possible Z and A\n",
      "[[[0.2749111  0.7250889 ]\n",
      "  [0.2503635  0.7496365 ]\n",
      "  [0.26585548 0.73414452]]\n",
      "\n",
      " [[0.72425409 0.27574591]\n",
      "  [0.69821967 0.30178033]\n",
      "  [0.71499237 0.28500763]]]\n",
      "\n",
      "\n",
      "This is p_W_given_ZA, but for a specific A = a\n",
      "[[0.2749111  0.7250889 ]\n",
      " [0.72425409 0.27574591]]\n"
     ]
    }
   ],
   "source": [
    "# Prints the probabilities of W given Z and A, and probability of W given Z and A for a specific A = a value\n",
    "\n",
    "p_W_given_ZA = get_probabilities(model_W, Z_source, A_source)\n",
    "print(\"This is p_W_given_ZA, so for each possible Z and A\")\n",
    "print(p_W_given_ZA)\n",
    "p_W_given_ZA_matrix = p_W_given_ZA[:, specific_a_index, :]\n",
    "print(\"\")\n",
    "print(\"\")\n",
    "print(\"This is p_W_given_ZA, but for a specific A = a\")\n",
    "print(p_W_given_ZA_matrix)"
   ]
  },
  {
   "cell_type": "code",
   "execution_count": 340,
   "metadata": {},
   "outputs": [
    {
     "name": "stdout",
     "output_type": "stream",
     "text": [
      "Step 1 done\n"
     ]
    }
   ],
   "source": [
    "print(\"Step 1 done\")"
   ]
  },
  {
   "cell_type": "code",
   "execution_count": 341,
   "metadata": {},
   "outputs": [
    {
     "name": "stdout",
     "output_type": "stream",
     "text": [
      "Z_source [tensor([1., 0.]), tensor([1., 0.]), tensor([1., 0.]), tensor([1., 0.]), tensor([1., 0.]), tensor([1., 0.]), tensor([1., 0.]), tensor([1., 0.]), tensor([1., 0.]), tensor([1., 0.])]\n",
      "A_source [tensor([1., 0., 0.]), tensor([1., 0., 0.]), tensor([1., 0., 0.]), tensor([1., 0., 0.]), tensor([1., 0., 0.]), tensor([0., 0., 1.]), tensor([1., 0., 0.]), tensor([1., 0., 0.]), tensor([0., 0., 1.]), tensor([0., 0., 1.])]\n",
      "Y_source [tensor(1.), tensor(1.), tensor(1.), tensor(1.), tensor(1.), tensor(1.), tensor(1.), tensor(1.), tensor(1.), tensor(1.)]\n",
      "W_source [tensor([0., 1.]), tensor([1., 0.]), tensor([0., 1.]), tensor([1., 0.]), tensor([1., 0.]), tensor([0., 1.]), tensor([0., 1.]), tensor([1., 0.]), tensor([1., 0.]), tensor([1., 0.])]\n"
     ]
    }
   ],
   "source": [
    "print(\"Z_source\", Z_source[:10])\n",
    "print(\"A_source\", A_source[:10])\n",
    "print(\"Y_source\", Y_source[:10])\n",
    "print(\"W_source\", W_source[:10])"
   ]
  },
  {
   "cell_type": "code",
   "execution_count": 342,
   "metadata": {},
   "outputs": [
    {
     "name": "stdout",
     "output_type": "stream",
     "text": [
      "p_Y_given_ZA_array.shape (2, 3, 2)\n",
      "p(Y|Z,A):\n",
      "[[[0.11884672 0.88115328]\n",
      "  [0.43302181 0.56697819]\n",
      "  [0.1160254  0.8839746 ]]\n",
      "\n",
      " [[0.88045151 0.11954849]\n",
      "  [0.40697674 0.59302326]\n",
      "  [0.8682595  0.1317405 ]]]\n",
      "\n",
      "p(W|Z,A):\n",
      "[[[0.72660589 0.27339411]\n",
      "  [0.55919003 0.44080997]\n",
      "  [0.73786697 0.26213303]]\n",
      "\n",
      " [[0.26953994 0.73046006]\n",
      "  [0.58604651 0.41395349]\n",
      "  [0.27078148 0.72921852]]]\n"
     ]
    }
   ],
   "source": [
    "# Here, we replace P(W|Z,A) with the frequencies of W=1 given Z and A and P(Y|Z,A) with the frequencies of Y=1 given Z and A\n",
    "if alternative:\n",
    "\n",
    "    # Convert tensors to numpy arrays\n",
    "    Z_source_np = np.array([z.numpy() for z in Z_train_source])\n",
    "    A_source_np = np.array([a.numpy() for a in A_train_source])\n",
    "    Y_source_np = np.array([y.numpy() for y in Y_train_source])\n",
    "    W_source_np = np.array([w.numpy() for w in W_train_source])\n",
    "\n",
    "    # Extract indices from one-hot encoding\n",
    "    Z_indices = np.argmax(Z_source_np, axis=1)\n",
    "    A_indices = np.argmax(A_source_np, axis=1)\n",
    "    W_indices = np.argmax(W_source_np, axis=1)\n",
    "\n",
    "    # Initialize count dictionaries\n",
    "    count_Y_given_ZA = defaultdict(int)\n",
    "    count_W_given_ZA = defaultdict(int)\n",
    "    count_ZA = defaultdict(int)\n",
    "\n",
    "    # Count occurrences\n",
    "    for i in range(len(Y_source_np)):\n",
    "        z = Z_indices[i]  # Extract index from one-hot encoding\n",
    "        a = A_indices[i]\n",
    "        y = int(Y_source_np[i])  # Convert to integer index for Y\n",
    "        w = W_indices[i]\n",
    "\n",
    "        # Count (Y, Z, A) and (W, Z, A) occurrences\n",
    "        count_Y_given_ZA[(z, a, y)] += 1\n",
    "        count_W_given_ZA[(z, a, w)] += 1\n",
    "        count_ZA[(z, a)] += 1\n",
    "\n",
    "    # Initialize arrays to hold probabilities\n",
    "    p_Y_given_ZA_array = np.zeros((num_features_Z, num_features_A, num_classes_Y))\n",
    "    p_W_given_ZA_array = np.zeros((num_features_Z, num_features_A, num_classes_W))\n",
    "\n",
    "    print(\"p_Y_given_ZA_array.shape\", p_Y_given_ZA_array.shape)\n",
    "\n",
    "    # Calculate probabilities\n",
    "    for (z, a, y), count in count_Y_given_ZA.items():\n",
    "        if count_ZA[(z, a)] > 0:\n",
    "            p_Y_given_ZA_array[z, a, y] = count / count_ZA[(z, a)]\n",
    "\n",
    "    for (z, a, w), count in count_W_given_ZA.items():\n",
    "        if count_ZA[(z, a)] > 0:\n",
    "            p_W_given_ZA_array[z, a, w] = count / count_ZA[(z, a)]\n",
    "\n",
    "    # Display the arrays\n",
    "    print(\"p(Y|Z,A):\")\n",
    "    print(p_Y_given_ZA_array)\n",
    "\n",
    "    print(\"\\np(W|Z,A):\")\n",
    "    print(p_W_given_ZA_array)\n",
    "\n",
    "    p_Y_given_ZA = p_Y_given_ZA_array\n",
    "    p_W_given_ZA = p_W_given_ZA_array\n",
    "\n",
    "    p_Y_given_ZA_matrix = p_Y_given_ZA[:, specific_a_index, :]  \n",
    "    p_W_given_ZA_matrix = p_W_given_ZA[:, specific_a_index, :]\n",
    "\n",
    "\n"
   ]
  },
  {
   "cell_type": "code",
   "execution_count": null,
   "metadata": {},
   "outputs": [],
   "source": []
  },
  {
   "cell_type": "code",
   "execution_count": 343,
   "metadata": {},
   "outputs": [
    {
     "name": "stdout",
     "output_type": "stream",
     "text": [
      "[[0.11884672 0.88115328]\n",
      " [0.88045151 0.11954849]\n",
      " [0.72660589 0.27339411]\n",
      " [0.26953994 0.73046006]]\n",
      "[[0.11884672 0.88045151 0.72660589 0.26953994]\n",
      " [0.88115328 0.11954849 0.27339411 0.73046006]]\n"
     ]
    }
   ],
   "source": [
    "stacked_matrix = np.vstack((p_Y_given_ZA_matrix, p_W_given_ZA_matrix)) # this should be a |Y| x |Z| matrix stacked on top of a |W| x |Z| matrix (for specific a)\n",
    "print(stacked_matrix)\n",
    "print(stacked_matrix.T)\n",
    "if debug:\n",
    "    stacked_matrix.T"
   ]
  },
  {
   "cell_type": "code",
   "execution_count": 344,
   "metadata": {},
   "outputs": [],
   "source": [
    "# NMF factorisation\n",
    "\n",
    "W, H = mvc_nmf(stacked_matrix.T, num_epsilon, w_vol, n_iter, err_cut) # Transpose the matrix to match the input format of the function"
   ]
  },
  {
   "cell_type": "code",
   "execution_count": 345,
   "metadata": {},
   "outputs": [
    {
     "name": "stdout",
     "output_type": "stream",
     "text": [
      "[[0.86722823 0.12554975]\n",
      " [0.12596145 0.86855572]\n",
      " [0.27569876 0.7184671 ]\n",
      " [0.72055916 0.27256295]]\n",
      "[[0.         1.00752592]\n",
      " [1.00594494 0.        ]]\n"
     ]
    }
   ],
   "source": [
    "print(W)\n",
    "print(H)"
   ]
  },
  {
   "cell_type": "code",
   "execution_count": 346,
   "metadata": {},
   "outputs": [
    {
     "name": "stdout",
     "output_type": "stream",
     "text": [
      "[[0.12629613 0.87375493]\n",
      " [0.87371923 0.12690943]\n",
      " [0.72273834 0.27777365]\n",
      " [0.27418332 0.72598203]]\n",
      "[[0.11884672 0.88115328]\n",
      " [0.88045151 0.11954849]\n",
      " [0.72660589 0.27339411]\n",
      " [0.26953994 0.73046006]]\n"
     ]
    }
   ],
   "source": [
    "print(W@H)\n",
    "print(stacked_matrix)"
   ]
  },
  {
   "cell_type": "code",
   "execution_count": 347,
   "metadata": {},
   "outputs": [
    {
     "name": "stdout",
     "output_type": "stream",
     "text": [
      "Row Sums:\n",
      " [[0.50142937]\n",
      " [0.50360114]\n",
      " [0.49816409]\n",
      " [0.49680541]]\n",
      "Normalized Matrix:\n",
      " [[1.         0.        ]\n",
      " [0.         1.        ]\n",
      " [0.19299472 0.80700528]\n",
      " [0.81003061 0.18996939]]\n",
      "original [[0.11884672 0.88115328]\n",
      " [0.88045151 0.11954849]\n",
      " [0.72660589 0.27339411]\n",
      " [0.26953994 0.73046006]]\n",
      "reconstruction [[0.04777607 0.88213084]\n",
      " [0.85916441 0.20288488]\n",
      " [0.69502506 0.33109946]\n",
      " [0.19935568 0.74598552]]\n"
     ]
    }
   ],
   "source": [
    "R_code_matrix = np.array([\n",
    "    [0.50142937, 0.00000000],\n",
    "    [0.00000000, 0.50360114],\n",
    "    [0.09614304, 0.40202105],\n",
    "    [0.40242759, 0.09437782]\n",
    "])\n",
    "\n",
    "# Calculate the row sums\n",
    "R_code_row_sums = R_code_matrix.sum(axis=1, keepdims=True)\n",
    "\n",
    "# Normalize the matrix by dividing each element by the sum of its row\n",
    "R_code_normalised = R_code_matrix / R_code_row_sums\n",
    "\n",
    "# Print the row sums and normalized matrix\n",
    "print(\"Row Sums:\\n\", R_code_row_sums)\n",
    "print(\"Normalized Matrix:\\n\", R_code_normalised)\n",
    "\n",
    "R_code_H = np.array([\n",
    "    [0.09527976, 1.7592325],\n",
    "    [1.70604144, 0.4028682]\n",
    "])\n",
    "\n",
    "print(\"original\",stacked_matrix)\n",
    "print(\"reconstruction\",R_code_matrix@R_code_H)\n",
    "\n",
    "R_code_p_Y_given_epsilon = R_code_matrix[:num_classes_Y, :]"
   ]
  },
  {
   "cell_type": "code",
   "execution_count": null,
   "metadata": {},
   "outputs": [],
   "source": []
  },
  {
   "cell_type": "code",
   "execution_count": 348,
   "metadata": {},
   "outputs": [],
   "source": [
    "if debug:\n",
    "    print(\"W shape:\", W.shape)\n",
    "    print(\"H shape:\", H.shape)\n",
    "    print(\"W:\", W)\n",
    "    print(\"H:\", H)\n",
    "    column_sums = W.sum(axis=0)\n",
    "\n",
    "    #    Normalize each element by its column sum\n",
    "    # This seems to agree with the R code\n",
    "    # W_normalized = W / column_sums\n",
    "    # print(W_normalized)"
   ]
  },
  {
   "cell_type": "code",
   "execution_count": 349,
   "metadata": {},
   "outputs": [],
   "source": [
    "p_Y_given_epsilon = W[:num_classes_Y, :] # |Y| x |\\Epsilon| matrix for specific a, the first num_classes_Y rows #CHECK NUM_CLASSES_Y IS THE ONE\n",
    "p_W_given_epsilon = W[num_classes_Y:, :] # |W| x |\\Epsilon| matrix for specific a, the rest of the rows #CHECK NUM_CLASSES_Y IS THE ONE\n",
    "p_epsilon_given_ZA = H # |\\Epsilon| x |Z| matrix for specific a"
   ]
  },
  {
   "cell_type": "code",
   "execution_count": 350,
   "metadata": {},
   "outputs": [
    {
     "name": "stdout",
     "output_type": "stream",
     "text": [
      "Comparison of p_W_given_epsilon from matrix factorisation vs p_w_given_epsilon from the data\n",
      "[[0.27569876 0.7184671 ]\n",
      " [0.72055916 0.27256295]]\n",
      "P(W=0 | epsilon=0): 0.7300221293336612\n",
      "P(W=1 | epsilon=0): 0.2699778706663388\n",
      "P(W=0 | epsilon=1): 0.2682064478336367\n",
      "P(W=1 | epsilon=1): 0.7317935521663633\n"
     ]
    }
   ],
   "source": [
    "# Compares the p_W_given_epsilon from the matrix factorisation with the p_W_given_epsilon from the data\n",
    "# They should somewhat match up to permutation\n",
    "\n",
    "print(\"Comparison of p_W_given_epsilon from matrix factorisation vs p_w_given_epsilon from the data\")\n",
    "print(p_W_given_epsilon)\n",
    "print(\"P(W=0 | epsilon=0):\", P_W_0_given_eps_0)\n",
    "print(\"P(W=1 | epsilon=0):\", P_W_1_given_eps_0)\n",
    "print(\"P(W=0 | epsilon=1):\", P_W_0_given_eps_1)\n",
    "print(\"P(W=1 | epsilon=1):\", P_W_1_given_eps_1)"
   ]
  },
  {
   "cell_type": "code",
   "execution_count": 351,
   "metadata": {},
   "outputs": [
    {
     "name": "stdout",
     "output_type": "stream",
     "text": [
      "Python P(Y|epsilon) [[0.86722823 0.12554975]\n",
      " [0.12596145 0.86855572]]\n",
      "R P(Y|epsilon) [[0.50142937 0.        ]\n",
      " [0.         0.50360114]]\n"
     ]
    }
   ],
   "source": [
    "print(\"Python P(Y|epsilon)\", p_Y_given_epsilon)\n",
    "print(\"R P(Y|epsilon)\", R_code_p_Y_given_epsilon)"
   ]
  },
  {
   "cell_type": "code",
   "execution_count": 352,
   "metadata": {},
   "outputs": [],
   "source": [
    "if debug:\n",
    "    # Print shapes to debug\n",
    "    print(\"p_Y_given_epsilon shape:\", p_Y_given_epsilon.shape)\n",
    "    print(\"p_W_given_epsilon shape:\", p_W_given_epsilon.shape)\n",
    "    print(\"p_epsilon_given_ZA shape:\", p_epsilon_given_ZA.shape)\n",
    "    print(\"ZA_source shape:\", ZA_source.shape)\n",
    "    print(\"p_Y_given_epsilon:\", p_Y_given_epsilon)\n",
    "    print(\"p_W_given_epsilon (should be comparable to vec1 and vec2):\", p_W_given_epsilon)\n",
    "    #print(\"p_W_given_epsilon marginalised:\", np.sum(p_W_given_epsilon, axis=1).reshape(-1, 1))\n",
    "    # Verify the shapes of the factorized matrices\n",
    "    assert p_Y_given_epsilon.shape == (num_classes_Y, num_epsilon), f\"p_Y_given_epsilon shape mismatch: {p_Y_given_epsilon.shape}\" #CHECK NUM_CLASSES_Y IS THE ONE\n",
    "    assert p_W_given_epsilon.shape == (num_classes_W, num_epsilon), f\"p_W_given_epsilon shape mismatch: {p_W_given_epsilon.shape}\" #CHECK NUM_CLASSES_W IS THE ONE\n",
    "    expected_shape = (num_epsilon, num_features_Z)  # Z_source[1] should be 4\n",
    "    print(\"expected_shape\", expected_shape)\n",
    "    assert p_epsilon_given_ZA.shape == expected_shape, f\"p_epsilon_given_ZA shape mismatch: {p_epsilon_given_ZA.shape}\"\n",
    "    print(\"Step 2: Factorization shapes are correct.\")\n",
    "\n",
    "# Verify reconstruction\n",
    "reconstructed_stacked_matrix = np.dot(W, H)\n",
    "if debug:\n",
    "    print(\"stacked_matrix:\", stacked_matrix)\n",
    "    print(\"reconstructed_stacked_matrix:\", reconstructed_stacked_matrix)\n",
    "    assert np.allclose(stacked_matrix, reconstructed_stacked_matrix, atol = factorisation_atol), \"Reconstructed matrix is not close to the original\"\n",
    "    print(\"Step 2: Reconstruction is correct.\")"
   ]
  },
  {
   "cell_type": "code",
   "execution_count": 353,
   "metadata": {},
   "outputs": [
    {
     "name": "stdout",
     "output_type": "stream",
     "text": [
      "Step 2 done\n"
     ]
    }
   ],
   "source": [
    "print(\"Step 2 done\")"
   ]
  },
  {
   "cell_type": "code",
   "execution_count": 354,
   "metadata": {},
   "outputs": [],
   "source": [
    "ZA_train_target = np.hstack((Z_train_target, A_train_target))\n",
    "if debug:\n",
    "    ZA_train_target"
   ]
  },
  {
   "cell_type": "code",
   "execution_count": 355,
   "metadata": {},
   "outputs": [],
   "source": [
    "# Convert the list of tensors to a list of binary labels\n",
    "binary_labels_target = [tensor_to_binary(t) for t in W_train_target]\n",
    "\n",
    "# Convert to numpy array (optional)\n",
    "binary_labels_target_array = np.array(binary_labels_target)"
   ]
  },
  {
   "cell_type": "code",
   "execution_count": 356,
   "metadata": {},
   "outputs": [
    {
     "data": {
      "text/html": [
       "<style>#sk-container-id-9 {\n",
       "  /* Definition of color scheme common for light and dark mode */\n",
       "  --sklearn-color-text: black;\n",
       "  --sklearn-color-line: gray;\n",
       "  /* Definition of color scheme for unfitted estimators */\n",
       "  --sklearn-color-unfitted-level-0: #fff5e6;\n",
       "  --sklearn-color-unfitted-level-1: #f6e4d2;\n",
       "  --sklearn-color-unfitted-level-2: #ffe0b3;\n",
       "  --sklearn-color-unfitted-level-3: chocolate;\n",
       "  /* Definition of color scheme for fitted estimators */\n",
       "  --sklearn-color-fitted-level-0: #f0f8ff;\n",
       "  --sklearn-color-fitted-level-1: #d4ebff;\n",
       "  --sklearn-color-fitted-level-2: #b3dbfd;\n",
       "  --sklearn-color-fitted-level-3: cornflowerblue;\n",
       "\n",
       "  /* Specific color for light theme */\n",
       "  --sklearn-color-text-on-default-background: var(--sg-text-color, var(--theme-code-foreground, var(--jp-content-font-color1, black)));\n",
       "  --sklearn-color-background: var(--sg-background-color, var(--theme-background, var(--jp-layout-color0, white)));\n",
       "  --sklearn-color-border-box: var(--sg-text-color, var(--theme-code-foreground, var(--jp-content-font-color1, black)));\n",
       "  --sklearn-color-icon: #696969;\n",
       "\n",
       "  @media (prefers-color-scheme: dark) {\n",
       "    /* Redefinition of color scheme for dark theme */\n",
       "    --sklearn-color-text-on-default-background: var(--sg-text-color, var(--theme-code-foreground, var(--jp-content-font-color1, white)));\n",
       "    --sklearn-color-background: var(--sg-background-color, var(--theme-background, var(--jp-layout-color0, #111)));\n",
       "    --sklearn-color-border-box: var(--sg-text-color, var(--theme-code-foreground, var(--jp-content-font-color1, white)));\n",
       "    --sklearn-color-icon: #878787;\n",
       "  }\n",
       "}\n",
       "\n",
       "#sk-container-id-9 {\n",
       "  color: var(--sklearn-color-text);\n",
       "}\n",
       "\n",
       "#sk-container-id-9 pre {\n",
       "  padding: 0;\n",
       "}\n",
       "\n",
       "#sk-container-id-9 input.sk-hidden--visually {\n",
       "  border: 0;\n",
       "  clip: rect(1px 1px 1px 1px);\n",
       "  clip: rect(1px, 1px, 1px, 1px);\n",
       "  height: 1px;\n",
       "  margin: -1px;\n",
       "  overflow: hidden;\n",
       "  padding: 0;\n",
       "  position: absolute;\n",
       "  width: 1px;\n",
       "}\n",
       "\n",
       "#sk-container-id-9 div.sk-dashed-wrapped {\n",
       "  border: 1px dashed var(--sklearn-color-line);\n",
       "  margin: 0 0.4em 0.5em 0.4em;\n",
       "  box-sizing: border-box;\n",
       "  padding-bottom: 0.4em;\n",
       "  background-color: var(--sklearn-color-background);\n",
       "}\n",
       "\n",
       "#sk-container-id-9 div.sk-container {\n",
       "  /* jupyter's `normalize.less` sets `[hidden] { display: none; }`\n",
       "     but bootstrap.min.css set `[hidden] { display: none !important; }`\n",
       "     so we also need the `!important` here to be able to override the\n",
       "     default hidden behavior on the sphinx rendered scikit-learn.org.\n",
       "     See: https://github.com/scikit-learn/scikit-learn/issues/21755 */\n",
       "  display: inline-block !important;\n",
       "  position: relative;\n",
       "}\n",
       "\n",
       "#sk-container-id-9 div.sk-text-repr-fallback {\n",
       "  display: none;\n",
       "}\n",
       "\n",
       "div.sk-parallel-item,\n",
       "div.sk-serial,\n",
       "div.sk-item {\n",
       "  /* draw centered vertical line to link estimators */\n",
       "  background-image: linear-gradient(var(--sklearn-color-text-on-default-background), var(--sklearn-color-text-on-default-background));\n",
       "  background-size: 2px 100%;\n",
       "  background-repeat: no-repeat;\n",
       "  background-position: center center;\n",
       "}\n",
       "\n",
       "/* Parallel-specific style estimator block */\n",
       "\n",
       "#sk-container-id-9 div.sk-parallel-item::after {\n",
       "  content: \"\";\n",
       "  width: 100%;\n",
       "  border-bottom: 2px solid var(--sklearn-color-text-on-default-background);\n",
       "  flex-grow: 1;\n",
       "}\n",
       "\n",
       "#sk-container-id-9 div.sk-parallel {\n",
       "  display: flex;\n",
       "  align-items: stretch;\n",
       "  justify-content: center;\n",
       "  background-color: var(--sklearn-color-background);\n",
       "  position: relative;\n",
       "}\n",
       "\n",
       "#sk-container-id-9 div.sk-parallel-item {\n",
       "  display: flex;\n",
       "  flex-direction: column;\n",
       "}\n",
       "\n",
       "#sk-container-id-9 div.sk-parallel-item:first-child::after {\n",
       "  align-self: flex-end;\n",
       "  width: 50%;\n",
       "}\n",
       "\n",
       "#sk-container-id-9 div.sk-parallel-item:last-child::after {\n",
       "  align-self: flex-start;\n",
       "  width: 50%;\n",
       "}\n",
       "\n",
       "#sk-container-id-9 div.sk-parallel-item:only-child::after {\n",
       "  width: 0;\n",
       "}\n",
       "\n",
       "/* Serial-specific style estimator block */\n",
       "\n",
       "#sk-container-id-9 div.sk-serial {\n",
       "  display: flex;\n",
       "  flex-direction: column;\n",
       "  align-items: center;\n",
       "  background-color: var(--sklearn-color-background);\n",
       "  padding-right: 1em;\n",
       "  padding-left: 1em;\n",
       "}\n",
       "\n",
       "\n",
       "/* Toggleable style: style used for estimator/Pipeline/ColumnTransformer box that is\n",
       "clickable and can be expanded/collapsed.\n",
       "- Pipeline and ColumnTransformer use this feature and define the default style\n",
       "- Estimators will overwrite some part of the style using the `sk-estimator` class\n",
       "*/\n",
       "\n",
       "/* Pipeline and ColumnTransformer style (default) */\n",
       "\n",
       "#sk-container-id-9 div.sk-toggleable {\n",
       "  /* Default theme specific background. It is overwritten whether we have a\n",
       "  specific estimator or a Pipeline/ColumnTransformer */\n",
       "  background-color: var(--sklearn-color-background);\n",
       "}\n",
       "\n",
       "/* Toggleable label */\n",
       "#sk-container-id-9 label.sk-toggleable__label {\n",
       "  cursor: pointer;\n",
       "  display: block;\n",
       "  width: 100%;\n",
       "  margin-bottom: 0;\n",
       "  padding: 0.5em;\n",
       "  box-sizing: border-box;\n",
       "  text-align: center;\n",
       "}\n",
       "\n",
       "#sk-container-id-9 label.sk-toggleable__label-arrow:before {\n",
       "  /* Arrow on the left of the label */\n",
       "  content: \"▸\";\n",
       "  float: left;\n",
       "  margin-right: 0.25em;\n",
       "  color: var(--sklearn-color-icon);\n",
       "}\n",
       "\n",
       "#sk-container-id-9 label.sk-toggleable__label-arrow:hover:before {\n",
       "  color: var(--sklearn-color-text);\n",
       "}\n",
       "\n",
       "/* Toggleable content - dropdown */\n",
       "\n",
       "#sk-container-id-9 div.sk-toggleable__content {\n",
       "  max-height: 0;\n",
       "  max-width: 0;\n",
       "  overflow: hidden;\n",
       "  text-align: left;\n",
       "  /* unfitted */\n",
       "  background-color: var(--sklearn-color-unfitted-level-0);\n",
       "}\n",
       "\n",
       "#sk-container-id-9 div.sk-toggleable__content.fitted {\n",
       "  /* fitted */\n",
       "  background-color: var(--sklearn-color-fitted-level-0);\n",
       "}\n",
       "\n",
       "#sk-container-id-9 div.sk-toggleable__content pre {\n",
       "  margin: 0.2em;\n",
       "  border-radius: 0.25em;\n",
       "  color: var(--sklearn-color-text);\n",
       "  /* unfitted */\n",
       "  background-color: var(--sklearn-color-unfitted-level-0);\n",
       "}\n",
       "\n",
       "#sk-container-id-9 div.sk-toggleable__content.fitted pre {\n",
       "  /* unfitted */\n",
       "  background-color: var(--sklearn-color-fitted-level-0);\n",
       "}\n",
       "\n",
       "#sk-container-id-9 input.sk-toggleable__control:checked~div.sk-toggleable__content {\n",
       "  /* Expand drop-down */\n",
       "  max-height: 200px;\n",
       "  max-width: 100%;\n",
       "  overflow: auto;\n",
       "}\n",
       "\n",
       "#sk-container-id-9 input.sk-toggleable__control:checked~label.sk-toggleable__label-arrow:before {\n",
       "  content: \"▾\";\n",
       "}\n",
       "\n",
       "/* Pipeline/ColumnTransformer-specific style */\n",
       "\n",
       "#sk-container-id-9 div.sk-label input.sk-toggleable__control:checked~label.sk-toggleable__label {\n",
       "  color: var(--sklearn-color-text);\n",
       "  background-color: var(--sklearn-color-unfitted-level-2);\n",
       "}\n",
       "\n",
       "#sk-container-id-9 div.sk-label.fitted input.sk-toggleable__control:checked~label.sk-toggleable__label {\n",
       "  background-color: var(--sklearn-color-fitted-level-2);\n",
       "}\n",
       "\n",
       "/* Estimator-specific style */\n",
       "\n",
       "/* Colorize estimator box */\n",
       "#sk-container-id-9 div.sk-estimator input.sk-toggleable__control:checked~label.sk-toggleable__label {\n",
       "  /* unfitted */\n",
       "  background-color: var(--sklearn-color-unfitted-level-2);\n",
       "}\n",
       "\n",
       "#sk-container-id-9 div.sk-estimator.fitted input.sk-toggleable__control:checked~label.sk-toggleable__label {\n",
       "  /* fitted */\n",
       "  background-color: var(--sklearn-color-fitted-level-2);\n",
       "}\n",
       "\n",
       "#sk-container-id-9 div.sk-label label.sk-toggleable__label,\n",
       "#sk-container-id-9 div.sk-label label {\n",
       "  /* The background is the default theme color */\n",
       "  color: var(--sklearn-color-text-on-default-background);\n",
       "}\n",
       "\n",
       "/* On hover, darken the color of the background */\n",
       "#sk-container-id-9 div.sk-label:hover label.sk-toggleable__label {\n",
       "  color: var(--sklearn-color-text);\n",
       "  background-color: var(--sklearn-color-unfitted-level-2);\n",
       "}\n",
       "\n",
       "/* Label box, darken color on hover, fitted */\n",
       "#sk-container-id-9 div.sk-label.fitted:hover label.sk-toggleable__label.fitted {\n",
       "  color: var(--sklearn-color-text);\n",
       "  background-color: var(--sklearn-color-fitted-level-2);\n",
       "}\n",
       "\n",
       "/* Estimator label */\n",
       "\n",
       "#sk-container-id-9 div.sk-label label {\n",
       "  font-family: monospace;\n",
       "  font-weight: bold;\n",
       "  display: inline-block;\n",
       "  line-height: 1.2em;\n",
       "}\n",
       "\n",
       "#sk-container-id-9 div.sk-label-container {\n",
       "  text-align: center;\n",
       "}\n",
       "\n",
       "/* Estimator-specific */\n",
       "#sk-container-id-9 div.sk-estimator {\n",
       "  font-family: monospace;\n",
       "  border: 1px dotted var(--sklearn-color-border-box);\n",
       "  border-radius: 0.25em;\n",
       "  box-sizing: border-box;\n",
       "  margin-bottom: 0.5em;\n",
       "  /* unfitted */\n",
       "  background-color: var(--sklearn-color-unfitted-level-0);\n",
       "}\n",
       "\n",
       "#sk-container-id-9 div.sk-estimator.fitted {\n",
       "  /* fitted */\n",
       "  background-color: var(--sklearn-color-fitted-level-0);\n",
       "}\n",
       "\n",
       "/* on hover */\n",
       "#sk-container-id-9 div.sk-estimator:hover {\n",
       "  /* unfitted */\n",
       "  background-color: var(--sklearn-color-unfitted-level-2);\n",
       "}\n",
       "\n",
       "#sk-container-id-9 div.sk-estimator.fitted:hover {\n",
       "  /* fitted */\n",
       "  background-color: var(--sklearn-color-fitted-level-2);\n",
       "}\n",
       "\n",
       "/* Specification for estimator info (e.g. \"i\" and \"?\") */\n",
       "\n",
       "/* Common style for \"i\" and \"?\" */\n",
       "\n",
       ".sk-estimator-doc-link,\n",
       "a:link.sk-estimator-doc-link,\n",
       "a:visited.sk-estimator-doc-link {\n",
       "  float: right;\n",
       "  font-size: smaller;\n",
       "  line-height: 1em;\n",
       "  font-family: monospace;\n",
       "  background-color: var(--sklearn-color-background);\n",
       "  border-radius: 1em;\n",
       "  height: 1em;\n",
       "  width: 1em;\n",
       "  text-decoration: none !important;\n",
       "  margin-left: 1ex;\n",
       "  /* unfitted */\n",
       "  border: var(--sklearn-color-unfitted-level-1) 1pt solid;\n",
       "  color: var(--sklearn-color-unfitted-level-1);\n",
       "}\n",
       "\n",
       ".sk-estimator-doc-link.fitted,\n",
       "a:link.sk-estimator-doc-link.fitted,\n",
       "a:visited.sk-estimator-doc-link.fitted {\n",
       "  /* fitted */\n",
       "  border: var(--sklearn-color-fitted-level-1) 1pt solid;\n",
       "  color: var(--sklearn-color-fitted-level-1);\n",
       "}\n",
       "\n",
       "/* On hover */\n",
       "div.sk-estimator:hover .sk-estimator-doc-link:hover,\n",
       ".sk-estimator-doc-link:hover,\n",
       "div.sk-label-container:hover .sk-estimator-doc-link:hover,\n",
       ".sk-estimator-doc-link:hover {\n",
       "  /* unfitted */\n",
       "  background-color: var(--sklearn-color-unfitted-level-3);\n",
       "  color: var(--sklearn-color-background);\n",
       "  text-decoration: none;\n",
       "}\n",
       "\n",
       "div.sk-estimator.fitted:hover .sk-estimator-doc-link.fitted:hover,\n",
       ".sk-estimator-doc-link.fitted:hover,\n",
       "div.sk-label-container:hover .sk-estimator-doc-link.fitted:hover,\n",
       ".sk-estimator-doc-link.fitted:hover {\n",
       "  /* fitted */\n",
       "  background-color: var(--sklearn-color-fitted-level-3);\n",
       "  color: var(--sklearn-color-background);\n",
       "  text-decoration: none;\n",
       "}\n",
       "\n",
       "/* Span, style for the box shown on hovering the info icon */\n",
       ".sk-estimator-doc-link span {\n",
       "  display: none;\n",
       "  z-index: 9999;\n",
       "  position: relative;\n",
       "  font-weight: normal;\n",
       "  right: .2ex;\n",
       "  padding: .5ex;\n",
       "  margin: .5ex;\n",
       "  width: min-content;\n",
       "  min-width: 20ex;\n",
       "  max-width: 50ex;\n",
       "  color: var(--sklearn-color-text);\n",
       "  box-shadow: 2pt 2pt 4pt #999;\n",
       "  /* unfitted */\n",
       "  background: var(--sklearn-color-unfitted-level-0);\n",
       "  border: .5pt solid var(--sklearn-color-unfitted-level-3);\n",
       "}\n",
       "\n",
       ".sk-estimator-doc-link.fitted span {\n",
       "  /* fitted */\n",
       "  background: var(--sklearn-color-fitted-level-0);\n",
       "  border: var(--sklearn-color-fitted-level-3);\n",
       "}\n",
       "\n",
       ".sk-estimator-doc-link:hover span {\n",
       "  display: block;\n",
       "}\n",
       "\n",
       "/* \"?\"-specific style due to the `<a>` HTML tag */\n",
       "\n",
       "#sk-container-id-9 a.estimator_doc_link {\n",
       "  float: right;\n",
       "  font-size: 1rem;\n",
       "  line-height: 1em;\n",
       "  font-family: monospace;\n",
       "  background-color: var(--sklearn-color-background);\n",
       "  border-radius: 1rem;\n",
       "  height: 1rem;\n",
       "  width: 1rem;\n",
       "  text-decoration: none;\n",
       "  /* unfitted */\n",
       "  color: var(--sklearn-color-unfitted-level-1);\n",
       "  border: var(--sklearn-color-unfitted-level-1) 1pt solid;\n",
       "}\n",
       "\n",
       "#sk-container-id-9 a.estimator_doc_link.fitted {\n",
       "  /* fitted */\n",
       "  border: var(--sklearn-color-fitted-level-1) 1pt solid;\n",
       "  color: var(--sklearn-color-fitted-level-1);\n",
       "}\n",
       "\n",
       "/* On hover */\n",
       "#sk-container-id-9 a.estimator_doc_link:hover {\n",
       "  /* unfitted */\n",
       "  background-color: var(--sklearn-color-unfitted-level-3);\n",
       "  color: var(--sklearn-color-background);\n",
       "  text-decoration: none;\n",
       "}\n",
       "\n",
       "#sk-container-id-9 a.estimator_doc_link.fitted:hover {\n",
       "  /* fitted */\n",
       "  background-color: var(--sklearn-color-fitted-level-3);\n",
       "}\n",
       "</style><div id=\"sk-container-id-9\" class=\"sk-top-container\"><div class=\"sk-text-repr-fallback\"><pre>LogisticRegression(max_iter=1000)</pre><b>In a Jupyter environment, please rerun this cell to show the HTML representation or trust the notebook. <br />On GitHub, the HTML representation is unable to render, please try loading this page with nbviewer.org.</b></div><div class=\"sk-container\" hidden><div class=\"sk-item\"><div class=\"sk-estimator fitted sk-toggleable\"><input class=\"sk-toggleable__control sk-hidden--visually\" id=\"sk-estimator-id-9\" type=\"checkbox\" checked><label for=\"sk-estimator-id-9\" class=\"sk-toggleable__label fitted sk-toggleable__label-arrow fitted\">&nbsp;&nbsp;LogisticRegression<a class=\"sk-estimator-doc-link fitted\" rel=\"noreferrer\" target=\"_blank\" href=\"https://scikit-learn.org/1.5/modules/generated/sklearn.linear_model.LogisticRegression.html\">?<span>Documentation for LogisticRegression</span></a><span class=\"sk-estimator-doc-link fitted\">i<span>Fitted</span></span></label><div class=\"sk-toggleable__content fitted\"><pre>LogisticRegression(max_iter=1000)</pre></div> </div></div></div></div>"
      ],
      "text/plain": [
       "LogisticRegression(max_iter=1000)"
      ]
     },
     "execution_count": 356,
     "metadata": {},
     "output_type": "execute_result"
    }
   ],
   "source": [
    "model_q_W = SklearnLogisticRegression(max_iter=1000)\n",
    "model_q_W.fit(ZA_train_target, binary_labels_target_array)"
   ]
  },
  {
   "cell_type": "code",
   "execution_count": 357,
   "metadata": {},
   "outputs": [
    {
     "name": "stdout",
     "output_type": "stream",
     "text": [
      "Accuracy of model_W on training set: 0.7329\n"
     ]
    }
   ],
   "source": [
    "W_train_pred_target = model_q_W.predict(ZA_train_target)\n",
    "if debug:   \n",
    "    print(\"W_train_pred\",W_train_pred_target)\n",
    "\n",
    "W_train_true_target = W_train_target\n",
    "accuracy_W_train_target = np.mean(W_train_pred_target == binary_labels_target_array)\n",
    "print(f\"Accuracy of model_W on training set: {accuracy_W_train_target:.4f}\")"
   ]
  },
  {
   "cell_type": "code",
   "execution_count": 358,
   "metadata": {},
   "outputs": [],
   "source": [
    "# Confusion matrix for training set\n",
    "\n",
    "cm_w_target = confusion_matrix(binary_labels_target_array, model_q_W.predict(ZA_train_target))\n",
    "if debug:\n",
    "    print(\"Classification Report for W:\")\n",
    "    print(classification_report(binary_labels_target_array, model_q_W.predict(ZA_train_target)))\n",
    "\n",
    "if debug:\n",
    "    plt.figure(figsize=(8, 6))\n",
    "    sns.heatmap(cm_w_target, annot=True, fmt='d', cmap='Blues', xticklabels=['Class 0', 'Class 1'], yticklabels=['Class 0', 'Class 1'])\n",
    "    plt.xlabel('Predicted')\n",
    "    plt.ylabel('Actual')\n",
    "    plt.title('Confusion Matrix for W')\n",
    "    plt.show()"
   ]
  },
  {
   "cell_type": "code",
   "execution_count": 359,
   "metadata": {},
   "outputs": [
    {
     "name": "stdout",
     "output_type": "stream",
     "text": [
      "This is q_W_given_ZA for all possible Z and A\n",
      "[[1. 0. 1. 0. 0.]]\n",
      "[0.2779484 0.7220516]\n",
      "[[1. 0. 0. 1. 0.]]\n",
      "[0.570098 0.429902]\n",
      "[[1. 0. 0. 0. 1.]]\n",
      "[0.27693066 0.72306934]\n",
      "[[0. 1. 1. 0. 0.]]\n",
      "[0.73248207 0.26751793]\n",
      "[[0. 1. 0. 1. 0.]]\n",
      "[0.90414598 0.09585402]\n",
      "[[0. 1. 0. 0. 1.]]\n",
      "[0.73148607 0.26851393]\n"
     ]
    },
    {
     "data": {
      "text/plain": [
       "array([[[0.2779484 , 0.7220516 ],\n",
       "        [0.570098  , 0.429902  ],\n",
       "        [0.27693066, 0.72306934]],\n",
       "\n",
       "       [[0.73248207, 0.26751793],\n",
       "        [0.90414598, 0.09585402],\n",
       "        [0.73148607, 0.26851393]]])"
      ]
     },
     "execution_count": 359,
     "metadata": {},
     "output_type": "execute_result"
    }
   ],
   "source": [
    "print(\"This is q_W_given_ZA for all possible Z and A\")\n",
    "q_W_given_ZA = get_probabilities(model_q_W, Z_target, A_target)\n",
    "q_W_given_ZA"
   ]
  },
  {
   "cell_type": "code",
   "execution_count": 360,
   "metadata": {},
   "outputs": [
    {
     "name": "stdout",
     "output_type": "stream",
     "text": [
      "Step 3 done\n"
     ]
    }
   ],
   "source": [
    "print(\"Step 3 done\")"
   ]
  },
  {
   "cell_type": "code",
   "execution_count": 361,
   "metadata": {},
   "outputs": [
    {
     "name": "stdout",
     "output_type": "stream",
     "text": [
      "This is q_W_given_ZA for all possible Z but for a specific A = a\n"
     ]
    },
    {
     "data": {
      "text/plain": [
       "array([[0.2779484 , 0.7220516 ],\n",
       "       [0.73248207, 0.26751793]])"
      ]
     },
     "execution_count": 361,
     "metadata": {},
     "output_type": "execute_result"
    }
   ],
   "source": [
    "# Now we extract q_W_given_ZA for specific a\n",
    "print(\"This is q_W_given_ZA for all possible Z but for a specific A = a\")\n",
    "q_W_given_ZA_specific_a = q_W_given_ZA[:, specific_a_index, :]\n",
    "q_W_given_ZA_specific_a"
   ]
  },
  {
   "cell_type": "code",
   "execution_count": 362,
   "metadata": {},
   "outputs": [],
   "source": [
    "if debug:\n",
    "    p_W_given_epsilon"
   ]
  },
  {
   "cell_type": "code",
   "execution_count": 363,
   "metadata": {},
   "outputs": [],
   "source": [
    "if debug:    \n",
    "    print(p_W_given_epsilon.shape)\n",
    "    print(q_W_given_ZA_specific_a.shape)"
   ]
  },
  {
   "cell_type": "code",
   "execution_count": 364,
   "metadata": {},
   "outputs": [],
   "source": [
    "# TODO: CHECK IF TRANSPOSES NEEDED ETC\n",
    "# We solve the linear equation by least squares\n",
    "q_epsilon_given_Z_and_A, _, _, _ = np.linalg.lstsq(p_W_given_epsilon, q_W_given_ZA_specific_a, rcond=None) "
   ]
  },
  {
   "cell_type": "code",
   "execution_count": 365,
   "metadata": {},
   "outputs": [
    {
     "name": "stdout",
     "output_type": "stream",
     "text": [
      "Solve the linear equation q(W|Z,a) = p(W|\\Epsilon)q(\\Epsilon | Z,a) by least squares\n"
     ]
    },
    {
     "data": {
      "text/plain": [
       "array([[ 1.01797086, -0.01039804],\n",
       "       [-0.00376482,  1.00897916]])"
      ]
     },
     "execution_count": 365,
     "metadata": {},
     "output_type": "execute_result"
    }
   ],
   "source": [
    "print(\"Solve the linear equation q(W|Z,a) = p(W|\\Epsilon)q(\\Epsilon | Z,a) by least squares\")\n",
    "q_epsilon_given_Z_and_A #note I'm getting a negative value here"
   ]
  },
  {
   "cell_type": "code",
   "execution_count": 366,
   "metadata": {},
   "outputs": [
    {
     "name": "stdout",
     "output_type": "stream",
     "text": [
      "Step 4 done\n"
     ]
    }
   ],
   "source": [
    "print(\"Step 4 done\")"
   ]
  },
  {
   "cell_type": "code",
   "execution_count": 367,
   "metadata": {},
   "outputs": [],
   "source": [
    "if debug:\n",
    "    A_target[:5]"
   ]
  },
  {
   "cell_type": "code",
   "execution_count": 368,
   "metadata": {},
   "outputs": [],
   "source": [
    "if debug:\n",
    "    Z_target[:5]"
   ]
  },
  {
   "cell_type": "code",
   "execution_count": 369,
   "metadata": {},
   "outputs": [],
   "source": [
    "# Convert the list of tensors to a list of binary labels\n",
    "binary_labels_target_Z = [tensor_to_binary(t) for t in Z_train_target]\n",
    "\n",
    "# Convert to numpy array (optional)\n",
    "binary_labels_target_array_Z = np.array(binary_labels_target_Z)"
   ]
  },
  {
   "cell_type": "code",
   "execution_count": 370,
   "metadata": {},
   "outputs": [],
   "source": [
    "if debug:\n",
    "    binary_labels_target_array_Z"
   ]
  },
  {
   "cell_type": "code",
   "execution_count": 371,
   "metadata": {},
   "outputs": [
    {
     "data": {
      "text/html": [
       "<style>#sk-container-id-10 {\n",
       "  /* Definition of color scheme common for light and dark mode */\n",
       "  --sklearn-color-text: black;\n",
       "  --sklearn-color-line: gray;\n",
       "  /* Definition of color scheme for unfitted estimators */\n",
       "  --sklearn-color-unfitted-level-0: #fff5e6;\n",
       "  --sklearn-color-unfitted-level-1: #f6e4d2;\n",
       "  --sklearn-color-unfitted-level-2: #ffe0b3;\n",
       "  --sklearn-color-unfitted-level-3: chocolate;\n",
       "  /* Definition of color scheme for fitted estimators */\n",
       "  --sklearn-color-fitted-level-0: #f0f8ff;\n",
       "  --sklearn-color-fitted-level-1: #d4ebff;\n",
       "  --sklearn-color-fitted-level-2: #b3dbfd;\n",
       "  --sklearn-color-fitted-level-3: cornflowerblue;\n",
       "\n",
       "  /* Specific color for light theme */\n",
       "  --sklearn-color-text-on-default-background: var(--sg-text-color, var(--theme-code-foreground, var(--jp-content-font-color1, black)));\n",
       "  --sklearn-color-background: var(--sg-background-color, var(--theme-background, var(--jp-layout-color0, white)));\n",
       "  --sklearn-color-border-box: var(--sg-text-color, var(--theme-code-foreground, var(--jp-content-font-color1, black)));\n",
       "  --sklearn-color-icon: #696969;\n",
       "\n",
       "  @media (prefers-color-scheme: dark) {\n",
       "    /* Redefinition of color scheme for dark theme */\n",
       "    --sklearn-color-text-on-default-background: var(--sg-text-color, var(--theme-code-foreground, var(--jp-content-font-color1, white)));\n",
       "    --sklearn-color-background: var(--sg-background-color, var(--theme-background, var(--jp-layout-color0, #111)));\n",
       "    --sklearn-color-border-box: var(--sg-text-color, var(--theme-code-foreground, var(--jp-content-font-color1, white)));\n",
       "    --sklearn-color-icon: #878787;\n",
       "  }\n",
       "}\n",
       "\n",
       "#sk-container-id-10 {\n",
       "  color: var(--sklearn-color-text);\n",
       "}\n",
       "\n",
       "#sk-container-id-10 pre {\n",
       "  padding: 0;\n",
       "}\n",
       "\n",
       "#sk-container-id-10 input.sk-hidden--visually {\n",
       "  border: 0;\n",
       "  clip: rect(1px 1px 1px 1px);\n",
       "  clip: rect(1px, 1px, 1px, 1px);\n",
       "  height: 1px;\n",
       "  margin: -1px;\n",
       "  overflow: hidden;\n",
       "  padding: 0;\n",
       "  position: absolute;\n",
       "  width: 1px;\n",
       "}\n",
       "\n",
       "#sk-container-id-10 div.sk-dashed-wrapped {\n",
       "  border: 1px dashed var(--sklearn-color-line);\n",
       "  margin: 0 0.4em 0.5em 0.4em;\n",
       "  box-sizing: border-box;\n",
       "  padding-bottom: 0.4em;\n",
       "  background-color: var(--sklearn-color-background);\n",
       "}\n",
       "\n",
       "#sk-container-id-10 div.sk-container {\n",
       "  /* jupyter's `normalize.less` sets `[hidden] { display: none; }`\n",
       "     but bootstrap.min.css set `[hidden] { display: none !important; }`\n",
       "     so we also need the `!important` here to be able to override the\n",
       "     default hidden behavior on the sphinx rendered scikit-learn.org.\n",
       "     See: https://github.com/scikit-learn/scikit-learn/issues/21755 */\n",
       "  display: inline-block !important;\n",
       "  position: relative;\n",
       "}\n",
       "\n",
       "#sk-container-id-10 div.sk-text-repr-fallback {\n",
       "  display: none;\n",
       "}\n",
       "\n",
       "div.sk-parallel-item,\n",
       "div.sk-serial,\n",
       "div.sk-item {\n",
       "  /* draw centered vertical line to link estimators */\n",
       "  background-image: linear-gradient(var(--sklearn-color-text-on-default-background), var(--sklearn-color-text-on-default-background));\n",
       "  background-size: 2px 100%;\n",
       "  background-repeat: no-repeat;\n",
       "  background-position: center center;\n",
       "}\n",
       "\n",
       "/* Parallel-specific style estimator block */\n",
       "\n",
       "#sk-container-id-10 div.sk-parallel-item::after {\n",
       "  content: \"\";\n",
       "  width: 100%;\n",
       "  border-bottom: 2px solid var(--sklearn-color-text-on-default-background);\n",
       "  flex-grow: 1;\n",
       "}\n",
       "\n",
       "#sk-container-id-10 div.sk-parallel {\n",
       "  display: flex;\n",
       "  align-items: stretch;\n",
       "  justify-content: center;\n",
       "  background-color: var(--sklearn-color-background);\n",
       "  position: relative;\n",
       "}\n",
       "\n",
       "#sk-container-id-10 div.sk-parallel-item {\n",
       "  display: flex;\n",
       "  flex-direction: column;\n",
       "}\n",
       "\n",
       "#sk-container-id-10 div.sk-parallel-item:first-child::after {\n",
       "  align-self: flex-end;\n",
       "  width: 50%;\n",
       "}\n",
       "\n",
       "#sk-container-id-10 div.sk-parallel-item:last-child::after {\n",
       "  align-self: flex-start;\n",
       "  width: 50%;\n",
       "}\n",
       "\n",
       "#sk-container-id-10 div.sk-parallel-item:only-child::after {\n",
       "  width: 0;\n",
       "}\n",
       "\n",
       "/* Serial-specific style estimator block */\n",
       "\n",
       "#sk-container-id-10 div.sk-serial {\n",
       "  display: flex;\n",
       "  flex-direction: column;\n",
       "  align-items: center;\n",
       "  background-color: var(--sklearn-color-background);\n",
       "  padding-right: 1em;\n",
       "  padding-left: 1em;\n",
       "}\n",
       "\n",
       "\n",
       "/* Toggleable style: style used for estimator/Pipeline/ColumnTransformer box that is\n",
       "clickable and can be expanded/collapsed.\n",
       "- Pipeline and ColumnTransformer use this feature and define the default style\n",
       "- Estimators will overwrite some part of the style using the `sk-estimator` class\n",
       "*/\n",
       "\n",
       "/* Pipeline and ColumnTransformer style (default) */\n",
       "\n",
       "#sk-container-id-10 div.sk-toggleable {\n",
       "  /* Default theme specific background. It is overwritten whether we have a\n",
       "  specific estimator or a Pipeline/ColumnTransformer */\n",
       "  background-color: var(--sklearn-color-background);\n",
       "}\n",
       "\n",
       "/* Toggleable label */\n",
       "#sk-container-id-10 label.sk-toggleable__label {\n",
       "  cursor: pointer;\n",
       "  display: block;\n",
       "  width: 100%;\n",
       "  margin-bottom: 0;\n",
       "  padding: 0.5em;\n",
       "  box-sizing: border-box;\n",
       "  text-align: center;\n",
       "}\n",
       "\n",
       "#sk-container-id-10 label.sk-toggleable__label-arrow:before {\n",
       "  /* Arrow on the left of the label */\n",
       "  content: \"▸\";\n",
       "  float: left;\n",
       "  margin-right: 0.25em;\n",
       "  color: var(--sklearn-color-icon);\n",
       "}\n",
       "\n",
       "#sk-container-id-10 label.sk-toggleable__label-arrow:hover:before {\n",
       "  color: var(--sklearn-color-text);\n",
       "}\n",
       "\n",
       "/* Toggleable content - dropdown */\n",
       "\n",
       "#sk-container-id-10 div.sk-toggleable__content {\n",
       "  max-height: 0;\n",
       "  max-width: 0;\n",
       "  overflow: hidden;\n",
       "  text-align: left;\n",
       "  /* unfitted */\n",
       "  background-color: var(--sklearn-color-unfitted-level-0);\n",
       "}\n",
       "\n",
       "#sk-container-id-10 div.sk-toggleable__content.fitted {\n",
       "  /* fitted */\n",
       "  background-color: var(--sklearn-color-fitted-level-0);\n",
       "}\n",
       "\n",
       "#sk-container-id-10 div.sk-toggleable__content pre {\n",
       "  margin: 0.2em;\n",
       "  border-radius: 0.25em;\n",
       "  color: var(--sklearn-color-text);\n",
       "  /* unfitted */\n",
       "  background-color: var(--sklearn-color-unfitted-level-0);\n",
       "}\n",
       "\n",
       "#sk-container-id-10 div.sk-toggleable__content.fitted pre {\n",
       "  /* unfitted */\n",
       "  background-color: var(--sklearn-color-fitted-level-0);\n",
       "}\n",
       "\n",
       "#sk-container-id-10 input.sk-toggleable__control:checked~div.sk-toggleable__content {\n",
       "  /* Expand drop-down */\n",
       "  max-height: 200px;\n",
       "  max-width: 100%;\n",
       "  overflow: auto;\n",
       "}\n",
       "\n",
       "#sk-container-id-10 input.sk-toggleable__control:checked~label.sk-toggleable__label-arrow:before {\n",
       "  content: \"▾\";\n",
       "}\n",
       "\n",
       "/* Pipeline/ColumnTransformer-specific style */\n",
       "\n",
       "#sk-container-id-10 div.sk-label input.sk-toggleable__control:checked~label.sk-toggleable__label {\n",
       "  color: var(--sklearn-color-text);\n",
       "  background-color: var(--sklearn-color-unfitted-level-2);\n",
       "}\n",
       "\n",
       "#sk-container-id-10 div.sk-label.fitted input.sk-toggleable__control:checked~label.sk-toggleable__label {\n",
       "  background-color: var(--sklearn-color-fitted-level-2);\n",
       "}\n",
       "\n",
       "/* Estimator-specific style */\n",
       "\n",
       "/* Colorize estimator box */\n",
       "#sk-container-id-10 div.sk-estimator input.sk-toggleable__control:checked~label.sk-toggleable__label {\n",
       "  /* unfitted */\n",
       "  background-color: var(--sklearn-color-unfitted-level-2);\n",
       "}\n",
       "\n",
       "#sk-container-id-10 div.sk-estimator.fitted input.sk-toggleable__control:checked~label.sk-toggleable__label {\n",
       "  /* fitted */\n",
       "  background-color: var(--sklearn-color-fitted-level-2);\n",
       "}\n",
       "\n",
       "#sk-container-id-10 div.sk-label label.sk-toggleable__label,\n",
       "#sk-container-id-10 div.sk-label label {\n",
       "  /* The background is the default theme color */\n",
       "  color: var(--sklearn-color-text-on-default-background);\n",
       "}\n",
       "\n",
       "/* On hover, darken the color of the background */\n",
       "#sk-container-id-10 div.sk-label:hover label.sk-toggleable__label {\n",
       "  color: var(--sklearn-color-text);\n",
       "  background-color: var(--sklearn-color-unfitted-level-2);\n",
       "}\n",
       "\n",
       "/* Label box, darken color on hover, fitted */\n",
       "#sk-container-id-10 div.sk-label.fitted:hover label.sk-toggleable__label.fitted {\n",
       "  color: var(--sklearn-color-text);\n",
       "  background-color: var(--sklearn-color-fitted-level-2);\n",
       "}\n",
       "\n",
       "/* Estimator label */\n",
       "\n",
       "#sk-container-id-10 div.sk-label label {\n",
       "  font-family: monospace;\n",
       "  font-weight: bold;\n",
       "  display: inline-block;\n",
       "  line-height: 1.2em;\n",
       "}\n",
       "\n",
       "#sk-container-id-10 div.sk-label-container {\n",
       "  text-align: center;\n",
       "}\n",
       "\n",
       "/* Estimator-specific */\n",
       "#sk-container-id-10 div.sk-estimator {\n",
       "  font-family: monospace;\n",
       "  border: 1px dotted var(--sklearn-color-border-box);\n",
       "  border-radius: 0.25em;\n",
       "  box-sizing: border-box;\n",
       "  margin-bottom: 0.5em;\n",
       "  /* unfitted */\n",
       "  background-color: var(--sklearn-color-unfitted-level-0);\n",
       "}\n",
       "\n",
       "#sk-container-id-10 div.sk-estimator.fitted {\n",
       "  /* fitted */\n",
       "  background-color: var(--sklearn-color-fitted-level-0);\n",
       "}\n",
       "\n",
       "/* on hover */\n",
       "#sk-container-id-10 div.sk-estimator:hover {\n",
       "  /* unfitted */\n",
       "  background-color: var(--sklearn-color-unfitted-level-2);\n",
       "}\n",
       "\n",
       "#sk-container-id-10 div.sk-estimator.fitted:hover {\n",
       "  /* fitted */\n",
       "  background-color: var(--sklearn-color-fitted-level-2);\n",
       "}\n",
       "\n",
       "/* Specification for estimator info (e.g. \"i\" and \"?\") */\n",
       "\n",
       "/* Common style for \"i\" and \"?\" */\n",
       "\n",
       ".sk-estimator-doc-link,\n",
       "a:link.sk-estimator-doc-link,\n",
       "a:visited.sk-estimator-doc-link {\n",
       "  float: right;\n",
       "  font-size: smaller;\n",
       "  line-height: 1em;\n",
       "  font-family: monospace;\n",
       "  background-color: var(--sklearn-color-background);\n",
       "  border-radius: 1em;\n",
       "  height: 1em;\n",
       "  width: 1em;\n",
       "  text-decoration: none !important;\n",
       "  margin-left: 1ex;\n",
       "  /* unfitted */\n",
       "  border: var(--sklearn-color-unfitted-level-1) 1pt solid;\n",
       "  color: var(--sklearn-color-unfitted-level-1);\n",
       "}\n",
       "\n",
       ".sk-estimator-doc-link.fitted,\n",
       "a:link.sk-estimator-doc-link.fitted,\n",
       "a:visited.sk-estimator-doc-link.fitted {\n",
       "  /* fitted */\n",
       "  border: var(--sklearn-color-fitted-level-1) 1pt solid;\n",
       "  color: var(--sklearn-color-fitted-level-1);\n",
       "}\n",
       "\n",
       "/* On hover */\n",
       "div.sk-estimator:hover .sk-estimator-doc-link:hover,\n",
       ".sk-estimator-doc-link:hover,\n",
       "div.sk-label-container:hover .sk-estimator-doc-link:hover,\n",
       ".sk-estimator-doc-link:hover {\n",
       "  /* unfitted */\n",
       "  background-color: var(--sklearn-color-unfitted-level-3);\n",
       "  color: var(--sklearn-color-background);\n",
       "  text-decoration: none;\n",
       "}\n",
       "\n",
       "div.sk-estimator.fitted:hover .sk-estimator-doc-link.fitted:hover,\n",
       ".sk-estimator-doc-link.fitted:hover,\n",
       "div.sk-label-container:hover .sk-estimator-doc-link.fitted:hover,\n",
       ".sk-estimator-doc-link.fitted:hover {\n",
       "  /* fitted */\n",
       "  background-color: var(--sklearn-color-fitted-level-3);\n",
       "  color: var(--sklearn-color-background);\n",
       "  text-decoration: none;\n",
       "}\n",
       "\n",
       "/* Span, style for the box shown on hovering the info icon */\n",
       ".sk-estimator-doc-link span {\n",
       "  display: none;\n",
       "  z-index: 9999;\n",
       "  position: relative;\n",
       "  font-weight: normal;\n",
       "  right: .2ex;\n",
       "  padding: .5ex;\n",
       "  margin: .5ex;\n",
       "  width: min-content;\n",
       "  min-width: 20ex;\n",
       "  max-width: 50ex;\n",
       "  color: var(--sklearn-color-text);\n",
       "  box-shadow: 2pt 2pt 4pt #999;\n",
       "  /* unfitted */\n",
       "  background: var(--sklearn-color-unfitted-level-0);\n",
       "  border: .5pt solid var(--sklearn-color-unfitted-level-3);\n",
       "}\n",
       "\n",
       ".sk-estimator-doc-link.fitted span {\n",
       "  /* fitted */\n",
       "  background: var(--sklearn-color-fitted-level-0);\n",
       "  border: var(--sklearn-color-fitted-level-3);\n",
       "}\n",
       "\n",
       ".sk-estimator-doc-link:hover span {\n",
       "  display: block;\n",
       "}\n",
       "\n",
       "/* \"?\"-specific style due to the `<a>` HTML tag */\n",
       "\n",
       "#sk-container-id-10 a.estimator_doc_link {\n",
       "  float: right;\n",
       "  font-size: 1rem;\n",
       "  line-height: 1em;\n",
       "  font-family: monospace;\n",
       "  background-color: var(--sklearn-color-background);\n",
       "  border-radius: 1rem;\n",
       "  height: 1rem;\n",
       "  width: 1rem;\n",
       "  text-decoration: none;\n",
       "  /* unfitted */\n",
       "  color: var(--sklearn-color-unfitted-level-1);\n",
       "  border: var(--sklearn-color-unfitted-level-1) 1pt solid;\n",
       "}\n",
       "\n",
       "#sk-container-id-10 a.estimator_doc_link.fitted {\n",
       "  /* fitted */\n",
       "  border: var(--sklearn-color-fitted-level-1) 1pt solid;\n",
       "  color: var(--sklearn-color-fitted-level-1);\n",
       "}\n",
       "\n",
       "/* On hover */\n",
       "#sk-container-id-10 a.estimator_doc_link:hover {\n",
       "  /* unfitted */\n",
       "  background-color: var(--sklearn-color-unfitted-level-3);\n",
       "  color: var(--sklearn-color-background);\n",
       "  text-decoration: none;\n",
       "}\n",
       "\n",
       "#sk-container-id-10 a.estimator_doc_link.fitted:hover {\n",
       "  /* fitted */\n",
       "  background-color: var(--sklearn-color-fitted-level-3);\n",
       "}\n",
       "</style><div id=\"sk-container-id-10\" class=\"sk-top-container\"><div class=\"sk-text-repr-fallback\"><pre>LogisticRegression(max_iter=1000)</pre><b>In a Jupyter environment, please rerun this cell to show the HTML representation or trust the notebook. <br />On GitHub, the HTML representation is unable to render, please try loading this page with nbviewer.org.</b></div><div class=\"sk-container\" hidden><div class=\"sk-item\"><div class=\"sk-estimator fitted sk-toggleable\"><input class=\"sk-toggleable__control sk-hidden--visually\" id=\"sk-estimator-id-10\" type=\"checkbox\" checked><label for=\"sk-estimator-id-10\" class=\"sk-toggleable__label fitted sk-toggleable__label-arrow fitted\">&nbsp;&nbsp;LogisticRegression<a class=\"sk-estimator-doc-link fitted\" rel=\"noreferrer\" target=\"_blank\" href=\"https://scikit-learn.org/1.5/modules/generated/sklearn.linear_model.LogisticRegression.html\">?<span>Documentation for LogisticRegression</span></a><span class=\"sk-estimator-doc-link fitted\">i<span>Fitted</span></span></label><div class=\"sk-toggleable__content fitted\"><pre>LogisticRegression(max_iter=1000)</pre></div> </div></div></div></div>"
      ],
      "text/plain": [
       "LogisticRegression(max_iter=1000)"
      ]
     },
     "execution_count": 371,
     "metadata": {},
     "output_type": "execute_result"
    }
   ],
   "source": [
    "# smote = SMOTE(random_state=42)\n",
    "# A_train_resampled, Z_train_resampled = smote.fit_resample(A_target, binary_labels_target_array_Z)\n",
    "\n",
    "# class_weights = {\n",
    "#     0: 1 / np.sum(binary_labels_target_array_Z == 0),\n",
    "#     1: 1 / np.sum(binary_labels_target_array_Z == 1)\n",
    "# }\n",
    "\n",
    "\n",
    "# Train model to estimate q(Z|a)\n",
    "model_q_Z = SklearnLogisticRegression(max_iter=1000)#, class_weight = class_weights)\n",
    "model_q_Z.fit(A_train_target, binary_labels_target_array_Z)\n",
    "\n",
    "# model_q_Z = SklearnLogisticRegression(max_iter=1000)#, class_weight = class_weights)\n",
    "# model_q_Z.fit(A_target, binary_labels_target_array_Z)\n",
    "\n",
    "# model_q_Z.fit(A_train_resampled, Z_train_resampled)"
   ]
  },
  {
   "cell_type": "code",
   "execution_count": 372,
   "metadata": {},
   "outputs": [],
   "source": [
    "if debug:\n",
    "    A_target[:5]"
   ]
  },
  {
   "cell_type": "code",
   "execution_count": 373,
   "metadata": {},
   "outputs": [
    {
     "name": "stdout",
     "output_type": "stream",
     "text": [
      "Accuracy of model on training set: 0.7930\n"
     ]
    }
   ],
   "source": [
    "Z_train_pred_target = model_q_Z.predict(A_train_target)\n",
    "if debug:\n",
    "    print(\"Z_target_pred\",Z_train_pred_target)\n",
    "\n",
    "Z_train_true_target = Z_train_target\n",
    "accuracy_Z_train_target = np.mean(Z_train_pred_target == binary_labels_target_array_Z)\n",
    "print(f\"Accuracy of model on training set: {accuracy_Z_train_target:.4f}\") "
   ]
  },
  {
   "cell_type": "code",
   "execution_count": 374,
   "metadata": {},
   "outputs": [
    {
     "data": {
      "text/plain": [
       "1362"
      ]
     },
     "execution_count": 374,
     "metadata": {},
     "output_type": "execute_result"
    }
   ],
   "source": [
    "Z_train_pred_target.sum()"
   ]
  },
  {
   "cell_type": "code",
   "execution_count": 375,
   "metadata": {},
   "outputs": [],
   "source": [
    "cm_z_target = confusion_matrix(binary_labels_target_array_Z, model_q_Z.predict(A_train_target))\n",
    "if debug:\n",
    "    print(\"Classification Report for Z:\")\n",
    "    print(classification_report(binary_labels_target_array_Z, model_q_Z.predict(A_train_target)))\n",
    "\n",
    "if debug:\n",
    "    plt.figure(figsize=(8, 6))\n",
    "    sns.heatmap(cm_z_target, annot=True, fmt='d', cmap='Blues', xticklabels=['Class 0', 'Class 1'], yticklabels=['Class 0', 'Class 1'])\n",
    "    plt.xlabel('Predicted')\n",
    "    plt.ylabel('Actual')\n",
    "    plt.title('Confusion Matrix for Z')\n",
    "    plt.show()    "
   ]
  },
  {
   "cell_type": "code",
   "execution_count": 376,
   "metadata": {},
   "outputs": [
    {
     "name": "stdout",
     "output_type": "stream",
     "text": [
      "Z_test_pred_target [0 1 0 ... 0 0 0]\n"
     ]
    }
   ],
   "source": [
    "# Confusion matrix for test set\n",
    "\n",
    "Z_test_pred_target = model_q_Z.predict(A_test_target)\n",
    "print(\"Z_test_pred_target\",Z_test_pred_target)\n",
    "\n",
    "Z_test_true_target = Z_test_target\n",
    "\n",
    "# Convert the list of tensors to a list of binary labels\n",
    "binary_labels_target_Z_test = [tensor_to_binary(t) for t in Z_test_target]\n",
    "\n",
    "# Convert to numpy array (optional)\n",
    "binary_labels_target_array_Z_test = np.array(binary_labels_target_Z_test)\n",
    "\n",
    "accuracy_Z_test_target = np.mean(Z_test_pred_target == binary_labels_target_array_Z_test)\n",
    "if debug:\n",
    "    print(f\"Accuracy of model on test set: {accuracy_Z_test_target:.4f}\") \n",
    "\n",
    "cm_z_target_test = confusion_matrix(binary_labels_target_array_Z_test, model_q_Z.predict(A_test_target))\n",
    "if debug:\n",
    "    print(\"Classification Report for Z:\")\n",
    "    print(classification_report(binary_labels_target_array_Z_test, model_q_Z.predict(A_test_target)))\n",
    "\n",
    "    plt.figure(figsize=(8, 6))\n",
    "    sns.heatmap(cm_z_target_test, annot=True, fmt='d', cmap='Blues', xticklabels=['Class 0', 'Class 1'], yticklabels=['Class 0', 'Class 1'])\n",
    "    plt.xlabel('Predicted')\n",
    "    plt.ylabel('Actual')\n",
    "    plt.title('Confusion Matrix for Z')\n",
    "    plt.show()"
   ]
  },
  {
   "cell_type": "code",
   "execution_count": 377,
   "metadata": {},
   "outputs": [
    {
     "name": "stdout",
     "output_type": "stream",
     "text": [
      "Step 5 done\n"
     ]
    }
   ],
   "source": [
    "print(\"Step 5 done\")"
   ]
  },
  {
   "cell_type": "code",
   "execution_count": 378,
   "metadata": {},
   "outputs": [],
   "source": [
    "if debug:\n",
    "    p_Y_given_epsilon"
   ]
  },
  {
   "cell_type": "code",
   "execution_count": 379,
   "metadata": {},
   "outputs": [],
   "source": [
    "if debug:\n",
    "    q_epsilon_given_Z_and_A"
   ]
  },
  {
   "cell_type": "code",
   "execution_count": 380,
   "metadata": {},
   "outputs": [],
   "source": [
    "# Checking that A is indeed a one-hot encoding\n",
    "\n",
    "# Assuming A_source is a list of tensors\n",
    "A_source_np = np.array([a.numpy() for a in A_source])\n",
    "\n",
    "# Find unique rows in A_source_np\n",
    "unique_A = np.unique(A_source_np, axis=0)\n",
    "\n",
    "if debug:\n",
    "    # Print the number of unique rows\n",
    "    print(f\"Number of distinct entries in A_source: {len(unique_A)}\")\n",
    "\n",
    "    # Optionally, print the distinct entries\n",
    "    print(\"Distinct entries in A_source:\")\n",
    "    print(unique_A)"
   ]
  },
  {
   "cell_type": "code",
   "execution_count": 381,
   "metadata": {},
   "outputs": [],
   "source": [
    "# Checking the distribution of A for Z = 0 and Z = 1\n",
    "\n",
    "# Assuming A_source and Z_source are lists of tensors\n",
    "A_source_np = np.array([a.numpy() for a in A_source])\n",
    "Z_source_np = np.array([z.numpy() for z in Z_source])\n",
    "\n",
    "if debug:\n",
    "    # Check shapes to understand the data structure\n",
    "    print(\"Shape of A_source_np:\", A_source_np.shape)\n",
    "    print(\"Shape of Z_source_np:\", Z_source_np.shape)\n",
    "\n",
    "# Ensure Z_source_np is flattened correctly if it's one-hot encoded or needs any transformation\n",
    "# For example, if Z_source is 2D and needs to be combined into a single label per row:\n",
    "if Z_source_np.shape[1] == 2:\n",
    "    Z_source_np = np.argmax(Z_source_np, axis=1)\n",
    "\n",
    "# Find unique entries in A_source\n",
    "unique_A = np.unique(A_source_np, axis=0)\n",
    "\n",
    "# Initialize a matrix to count occurrences of each A entry for Z = 0 and Z = 1\n",
    "count_matrix = np.zeros((len(unique_A), 2))\n",
    "\n",
    "# Populate the count matrix\n",
    "for i, unique_a in enumerate(unique_A):\n",
    "    for z_val in [0, 1]:\n",
    "        count_matrix[i, z_val] = np.sum((A_source_np == unique_a).all(axis=1) & (Z_source_np == z_val))\n",
    "\n",
    "# Convert the matrix to a DataFrame for better visualization\n",
    "unique_A_labels = ['A' + str(i) for i in range(len(unique_A))]\n",
    "count_df = pd.DataFrame(count_matrix, index=[str(list(a)) for a in unique_A], columns=['Z=0', 'Z=1'])\n",
    "\n",
    "if debug:\n",
    "    # Display the DataFrame\n",
    "    print(count_df)\n"
   ]
  },
  {
   "cell_type": "code",
   "execution_count": 382,
   "metadata": {},
   "outputs": [
    {
     "name": "stdout",
     "output_type": "stream",
     "text": [
      "Shape of W_train_source_np: (60000, 2)\n",
      "Shape of Z_train_source_np: (60000, 2)\n",
      "Occurrences of each unique Z entry:\n",
      "      Z_value  Count\n",
      "0  [0.0, 1.0]  12304\n",
      "1  [1.0, 0.0]  47696\n",
      "\n",
      "Occurrences of each unique W entry:\n",
      "      W_value  Count\n",
      "0  [0.0, 1.0]  21727\n",
      "1  [1.0, 0.0]  38273\n"
     ]
    }
   ],
   "source": [
    "import numpy as np\n",
    "import pandas as pd\n",
    "\n",
    "# Assuming W_train_source and Z_train_source are lists of tensors\n",
    "W_train_source_np = np.array([a.numpy() for a in W_train_source])\n",
    "Z_train_source_np = np.array([z.numpy() for z in Z_train_source])\n",
    "\n",
    "debug = True  # Set to True for debugging output\n",
    "\n",
    "if debug:\n",
    "    # Check shapes to understand the data structure\n",
    "    print(\"Shape of W_train_source_np:\", W_train_source_np.shape)\n",
    "    print(\"Shape of Z_train_source_np:\", Z_train_source_np.shape)\n",
    "\n",
    "# Count unique occurrences in Z (as rows)\n",
    "unique_Z, counts_Z = np.unique(Z_train_source_np, axis=0, return_counts=True)\n",
    "\n",
    "# Count unique occurrences in W (as rows)\n",
    "unique_W, counts_W = np.unique(W_train_source_np, axis=0, return_counts=True)\n",
    "\n",
    "# Create DataFrames for visualization\n",
    "Z_counts_df = pd.DataFrame({'Z_value': [str(list(z)) for z in unique_Z], 'Count': counts_Z})\n",
    "W_counts_df = pd.DataFrame({'W_value': [str(list(w)) for w in unique_W], 'Count': counts_W})\n",
    "\n",
    "if debug:\n",
    "    # Display the counts\n",
    "    print(\"Occurrences of each unique Z entry:\")\n",
    "    print(Z_counts_df)\n",
    "    print(\"\\nOccurrences of each unique W entry:\")\n",
    "    print(W_counts_df)\n"
   ]
  },
  {
   "cell_type": "code",
   "execution_count": 383,
   "metadata": {},
   "outputs": [],
   "source": [
    "if debug:\n",
    "    Z_target[:5]"
   ]
  },
  {
   "cell_type": "code",
   "execution_count": 384,
   "metadata": {},
   "outputs": [
    {
     "name": "stdout",
     "output_type": "stream",
     "text": [
      "This is p(Y|\\epsilon,a)\n",
      "[[0.86722823 0.12554975]\n",
      " [0.12596145 0.86855572]]\n",
      "\n",
      "This is q(\\epsilon|Z,a)\n",
      "[[ 1.01797086 -0.01039804]\n",
      " [-0.00376482  1.00897916]]\n",
      "\n",
      "This is q(Z|a)\n",
      "[[0.79658171 0.20341829]]\n"
     ]
    }
   ],
   "source": [
    "print(\"This is p(Y|\\epsilon,a)\")\n",
    "print(p_Y_given_epsilon)\n",
    "print(\"\")\n",
    "\n",
    "print(\"This is q(\\epsilon|Z,a)\")\n",
    "print(q_epsilon_given_Z_and_A)\n",
    "print(\"\")\n",
    "\n",
    "one_hot_specific_a = np.eye(len(A_source[0]))[specific_a_index].reshape(1, -1)\n",
    "q_Z_given_A = model_q_Z.predict_proba(one_hot_specific_a)\n",
    "print(\"This is q(Z|a)\")\n",
    "print(q_Z_given_A)"
   ]
  },
  {
   "cell_type": "code",
   "execution_count": 385,
   "metadata": {},
   "outputs": [
    {
     "name": "stdout",
     "output_type": "stream",
     "text": [
      "q_Y_given_a: [[0.72679034]\n",
      " [0.2775371 ]]\n"
     ]
    }
   ],
   "source": [
    "q_Y_given_A = p_Y_given_epsilon@(q_epsilon_given_Z_and_A@q_Z_given_A.T)\n",
    "print(\"q_Y_given_a:\", q_Y_given_A)"
   ]
  },
  {
   "cell_type": "code",
   "execution_count": 386,
   "metadata": {},
   "outputs": [
    {
     "name": "stdout",
     "output_type": "stream",
     "text": [
      "q_Y_given_a_normalised: [[0.72365875]\n",
      " [0.27634125]]\n"
     ]
    }
   ],
   "source": [
    "q_Y_given_a_normalised = q_Y_given_A / np.sum(q_Y_given_A)\n",
    "print(\"q_Y_given_a_normalised:\", q_Y_given_a_normalised)"
   ]
  },
  {
   "cell_type": "code",
   "execution_count": 387,
   "metadata": {},
   "outputs": [
    {
     "name": "stdout",
     "output_type": "stream",
     "text": [
      "Summary:\n",
      "Comparison of p_W_given_epsilon from matrix factorisation vs p_w_given_epsilon from the data\n",
      "[[0.27569876 0.7184671 ]\n",
      " [0.72055916 0.27256295]]\n",
      "normalised [[0.27731666 0.72268334]\n",
      " [0.72554941 0.27445059]]\n",
      "P(W=0 | epsilon=0): 0.7300221293336612\n",
      "P(W=1 | epsilon=0): 0.2699778706663388\n",
      "P(W=0 | epsilon=1): 0.2682064478336367\n",
      "P(W=1 | epsilon=1): 0.7317935521663633\n",
      "Accuracy of model_Y on training set: 87.41%\n",
      "Accuracy of model_Y on test set: 87.67%\n",
      "Accuracy of model_W on training set: 72.76%\n",
      "Accuracy of model_W on test set: 72.55%\n",
      "Accuracy of model_W on training set (target): 73.30%\n",
      "Accuracy of model_W on test set (target): 72.55%\n",
      "Accuracy of model_Z on training set (target): 79.30%\n",
      "Accuracy of model_Z on test set (target): 79.70%\n",
      "\n",
      "q_Y_given_a: [[0.72679034]\n",
      " [0.2775371 ]]\n",
      "q_Y_given_a_normalised: [[0.72365875]\n",
      " [0.27634125]]\n"
     ]
    }
   ],
   "source": [
    "if summary:\n",
    "    print(\"Summary:\")\n",
    "    print(\"Comparison of p_W_given_epsilon from matrix factorisation vs p_w_given_epsilon from the data\")\n",
    "    print(p_W_given_epsilon)\n",
    "    row_sums = p_W_given_epsilon.sum(axis=1, keepdims=True)\n",
    "    # Normalize each row by dividing by the row sum\n",
    "    normalized_matrix = p_W_given_epsilon / row_sums\n",
    "    print(\"normalised\", normalized_matrix)\n",
    "    print(\"P(W=0 | epsilon=0):\", P_W_0_given_eps_0)\n",
    "    print(\"P(W=1 | epsilon=0):\", P_W_1_given_eps_0)\n",
    "    print(\"P(W=0 | epsilon=1):\", P_W_0_given_eps_1)\n",
    "    print(\"P(W=1 | epsilon=1):\", P_W_1_given_eps_1)\n",
    "    print(f\"Accuracy of model_Y on training set: {accuracy_Y_train * 100:.2f}%\")\n",
    "    print(f\"Accuracy of model_Y on test set: {accuracy_Y_test * 100:.2f}%\")\n",
    "    print(f\"Accuracy of model_W on training set: {accuracy_W_train * 100:.2f}%\")\n",
    "    print(f\"Accuracy of model_W on test set: {accuracy_W_test * 100:.2f}%\")\n",
    "    print(f\"Accuracy of model_W on training set (target): {accuracy_W_train_target * 100:.2f}%\")\n",
    "    print(f\"Accuracy of model_W on test set (target): {accuracy_W_test * 100:.2f}%\")\n",
    "    print(f\"Accuracy of model_Z on training set (target): {accuracy_Z_train_target * 100:.2f}%\")\n",
    "    print(f\"Accuracy of model_Z on test set (target): {accuracy_Z_test_target * 100:.2f}%\")\n",
    "    print(\"\")\n",
    "    print(\"q_Y_given_a:\", q_Y_given_A)\n",
    "    print(\"q_Y_given_a_normalised:\", q_Y_given_a_normalised)\n",
    "    "
   ]
  },
  {
   "cell_type": "code",
   "execution_count": 388,
   "metadata": {},
   "outputs": [
    {
     "ename": "SyntaxError",
     "evalue": "'break' outside loop (668683560.py, line 1)",
     "output_type": "error",
     "traceback": [
      "\u001b[0;36m  Cell \u001b[0;32mIn[388], line 1\u001b[0;36m\u001b[0m\n\u001b[0;31m    break\u001b[0m\n\u001b[0m    ^\u001b[0m\n\u001b[0;31mSyntaxError\u001b[0m\u001b[0;31m:\u001b[0m 'break' outside loop\n"
     ]
    }
   ],
   "source": [
    "break"
   ]
  },
  {
   "cell_type": "code",
   "execution_count": null,
   "metadata": {},
   "outputs": [],
   "source": []
  },
  {
   "cell_type": "code",
   "execution_count": null,
   "metadata": {},
   "outputs": [],
   "source": []
  },
  {
   "cell_type": "code",
   "execution_count": null,
   "metadata": {},
   "outputs": [],
   "source": []
  },
  {
   "cell_type": "code",
   "execution_count": null,
   "metadata": {},
   "outputs": [],
   "source": []
  },
  {
   "cell_type": "code",
   "execution_count": null,
   "metadata": {},
   "outputs": [],
   "source": []
  },
  {
   "cell_type": "code",
   "execution_count": null,
   "metadata": {},
   "outputs": [],
   "source": []
  },
  {
   "cell_type": "code",
   "execution_count": null,
   "metadata": {},
   "outputs": [],
   "source": []
  },
  {
   "cell_type": "code",
   "execution_count": null,
   "metadata": {},
   "outputs": [
    {
     "data": {
      "image/png": "[encoded data removed]",
      "text/plain": [
       "<Figure size 1200x600 with 1 Axes>"
      ]
     },
     "metadata": {},
     "output_type": "display_data"
    },
    {
     "data": {
      "image/png": "[encoded data removed]",
      "text/plain": [
       "<Figure size 1200x600 with 1 Axes>"
      ]
     },
     "metadata": {},
     "output_type": "display_data"
    },
    {
     "data": {
      "image/png": "[encoded data removed]",
      "text/plain": [
       "<Figure size 1200x600 with 1 Axes>"
      ]
     },
     "metadata": {},
     "output_type": "display_data"
    },
    {
     "data": {
      "image/png": "[encoded data removed]",
      "text/plain": [
       "<Figure size 1200x600 with 1 Axes>"
      ]
     },
     "metadata": {},
     "output_type": "display_data"
    },
    {
     "data": {
      "image/png": "[encoded data removed]",
      "text/plain": [
       "<Figure size 1200x600 with 1 Axes>"
      ]
     },
     "metadata": {},
     "output_type": "display_data"
    },
    {
     "data": {
      "image/png": "[encoded data removed]",
      "text/plain": [
       "<Figure size 1200x600 with 1 Axes>"
      ]
     },
     "metadata": {},
     "output_type": "display_data"
    }
   ],
   "source": [
    "def plot_histograms(source, target, title, bins=10, xlabel='Value', ylabel='Frequency'):\n",
    "    plt.figure(figsize=(12, 6))\n",
    "    plt.hist(source, bins=bins, alpha=0.5, label='Source')\n",
    "    plt.hist(target, bins=bins, alpha=0.5, label='Target')\n",
    "    plt.title(title)\n",
    "    plt.xlabel(xlabel)\n",
    "    plt.ylabel(ylabel)\n",
    "    plt.legend(loc='upper right')\n",
    "    plt.show()\n",
    "\n",
    "# Convert lists of tensors to numpy arrays for plotting\n",
    "Z_source_np = np.array([z.numpy() for z in Z_source])\n",
    "Z_target_np = np.array([z.numpy() for z in Z_target])\n",
    "W_source_np = np.array([w.numpy() for w in W_source])\n",
    "W_target_np = np.array([w.numpy() for w in W_target])\n",
    "A_source_np = np.array([a.numpy() for a in A_source])\n",
    "A_target_np = np.array([a.numpy() for a in A_target])\n",
    "Y_source_np = np.array([y.numpy() for y in Y_source])\n",
    "Y_target_np = np.array([y.numpy() for y in Y_target])\n",
    "\n",
    "# Plot Z\n",
    "plot_histograms(\n",
    "    Z_source_np[:, 1], Z_target_np[:, 1],  # Compare the one-hot encoded \"1\" position\n",
    "    title='Distribution of Z in Source and Target Domains',\n",
    "    xlabel='Z Value (One-hot Encoded)',\n",
    "    ylabel='Frequency'\n",
    ")\n",
    "\n",
    "# Plot W\n",
    "plot_histograms(\n",
    "    W_source_np[:, 1], W_target_np[:, 1],\n",
    "    title='Distribution of W in Source and Target Domains',\n",
    "    xlabel='W Value (One-hot Encoded)',\n",
    "    ylabel='Frequency'\n",
    ")\n",
    "\n",
    "# Plot A (flatten for multi-class)\n",
    "for i in range(A_source_np.shape[1]):\n",
    "    plot_histograms(\n",
    "        A_source_np[:, i], A_target_np[:, i],\n",
    "        title=f'Distribution of A[{i}] in Source and Target Domains',\n",
    "        xlabel=f'A[{i}] Value (One-hot Encoded)',\n",
    "        ylabel='Frequency'\n",
    "    )\n",
    "\n",
    "# Plot Y\n",
    "plot_histograms(\n",
    "    Y_source_np, Y_target_np,\n",
    "    title='Distribution of Y in Source and Target Domains',\n",
    "    xlabel='Y Value',\n",
    "    ylabel='Frequency'\n",
    ")\n"
   ]
  },
  {
   "cell_type": "code",
   "execution_count": null,
   "metadata": {},
   "outputs": [
    {
     "name": "stdout",
     "output_type": "stream",
     "text": [
      "KS Test for Z: statistic=0.4569, p-value=0.0\n",
      "KS Test for W: statistic=0.4681, p-value=0.0\n",
      "KS Test for A[0]: statistic=0.0024, p-value=1.0\n",
      "KS Test for A[1]: statistic=0.0014, p-value=0.9999999999999993\n",
      "KS Test for A[2]: statistic=0.0038, p-value=0.9999996477853529\n",
      "KS Test for Y: statistic=0.456, p-value=0.0\n"
     ]
    },
    {
     "name": "stderr",
     "output_type": "stream",
     "text": [
      "/var/folders/tf/g242212x4tsbkxq6k9xkfvn80000gn/T/ipykernel_982/3858282105.py:4: RuntimeWarning: ks_2samp: Exact calculation unsuccessful. Switching to method=asymp.\n",
      "  statistic, p_value = ks_2samp(source, target)\n"
     ]
    }
   ],
   "source": [
    "from scipy.stats import ks_2samp\n",
    "\n",
    "def perform_ks_test(source, target, feature_name):\n",
    "    statistic, p_value = ks_2samp(source, target)\n",
    "    print(f\"KS Test for {feature_name}: statistic={statistic}, p-value={p_value}\")\n",
    "\n",
    "perform_ks_test(Z_source_np[:, 1], Z_target_np[:, 1], 'Z')\n",
    "perform_ks_test(W_source_np[:, 1], W_target_np[:, 1], 'W')\n",
    "for i in range(A_source_np.shape[1]):\n",
    "    perform_ks_test(A_source_np[:, i], A_target_np[:, i], f'A[{i}]')\n",
    "perform_ks_test(Y_source_np, Y_target_np, 'Y')"
   ]
  },
  {
   "cell_type": "code",
   "execution_count": null,
   "metadata": {},
   "outputs": [
    {
     "ename": "SyntaxError",
     "evalue": "'break' outside loop (668683560.py, line 1)",
     "output_type": "error",
     "traceback": [
      "\u001b[0;36m  Cell \u001b[0;32mIn[781], line 1\u001b[0;36m\u001b[0m\n\u001b[0;31m    break\u001b[0m\n\u001b[0m    ^\u001b[0m\n\u001b[0;31mSyntaxError\u001b[0m\u001b[0;31m:\u001b[0m 'break' outside loop\n"
     ]
    }
   ],
   "source": [
    "break"
   ]
  },
  {
   "cell_type": "code",
   "execution_count": null,
   "metadata": {},
   "outputs": [],
   "source": [
    "# BASELINE METHODS #"
   ]
  },
  {
   "cell_type": "code",
   "execution_count": null,
   "metadata": {},
   "outputs": [],
   "source": [
    "###### COVARIATE SHIFT #####"
   ]
  },
  {
   "cell_type": "code",
   "execution_count": null,
   "metadata": {},
   "outputs": [],
   "source": [
    "\"\"\"Implementation of covariate shift adaptation method. \"\"\"\n",
    "\n",
    "# Author: Nicole Chiou <nicchiou@stanford.edu>, Katherine Tsai <kt14@illinois.edu>\n",
    "# MIT License\n",
    "\n",
    "\n",
    "import numpy as np\n",
    "from sklearn.linear_model import LogisticRegression\n",
    "from sklearn.kernel_ridge import KernelRidge\n",
    "from sklearn import random_projection as r_proj\n",
    "\n",
    "\n",
    "def convert_data_y2d(source, target):\n",
    "    source_y = np.zeros_like(source[\"Y\"])\n",
    "    target_y = np.ones_like(target[\"Y\"])\n",
    "\n",
    "    return {\n",
    "        \"X\": np.concatenate([source[\"X\"], target[\"X\"]], axis=0),\n",
    "        \"Y\": np.concatenate([source_y, target_y], axis=0).ravel(),\n",
    "    }\n",
    "\n",
    "\n",
    "class COVAR:\n",
    "    \"\"\"Covariate shift adaptation.\"\"\"\n",
    "\n",
    "    def __init__(self, alpha=1.0, kernel=\"rbf\", proj_dim=16):\n",
    "        self.source_covar_model = KernelRidge(alpha=alpha, kernel=kernel)\n",
    "        self.target_covar_model = KernelRidge(alpha=alpha, kernel=kernel)\n",
    "        self.proj_dim = proj_dim\n",
    "\n",
    "    def fit(self, source_train, target_train):\n",
    "        domain_d = convert_data_y2d(source_train, target_train)\n",
    "        proj = r_proj.GaussianRandomProjection(\n",
    "            n_components=self.proj_dim, random_state=0\n",
    "        ).fit(domain_d[\"X\"])\n",
    "        d_x = LogisticRegression(random_state=0)\n",
    "        d_x.fit(proj.transform(domain_d[\"X\"]), domain_d[\"Y\"])\n",
    "\n",
    "        # Compute sample weights\n",
    "        q_x_train = d_x.predict_proba(proj.transform(source_train[\"X\"]))[:, 1]\n",
    "        source_sample_weight_train = q_x_train / (1.0 - q_x_train + 1e-3)\n",
    "\n",
    "        # Fit source model\n",
    "        self.source_covar_model.fit(\n",
    "            source_train[\"X\"],\n",
    "            source_train[\"Y\"],\n",
    "            sample_weight=source_sample_weight_train,\n",
    "        )\n",
    "\n",
    "        # Compute sample weights\n",
    "        q_x_train = d_x.predict_proba(proj.transform(target_train[\"X\"]))[:, 0]\n",
    "        target_sample_weight_train = q_x_train / (1.0 - q_x_train + 1e-3)\n",
    "\n",
    "        # Fit target model\n",
    "        self.target_covar_model.fit(\n",
    "            target_train[\"X\"],\n",
    "            target_train[\"Y\"],\n",
    "            sample_weight=target_sample_weight_train,\n",
    "        )\n",
    "\n",
    "    def predict(self, test_data):\n",
    "        return self.source_covar_model.predict(test_data[\"X\"])\n",
    "\n",
    "    def predict_target(self, test_data):\n",
    "        return self.target_covar_model.predict(test_data[\"X\"])"
   ]
  },
  {
   "cell_type": "code",
   "execution_count": null,
   "metadata": {},
   "outputs": [
    {
     "name": "stdout",
     "output_type": "stream",
     "text": [
      "10000\n",
      "10000\n",
      "6000\n",
      "6000\n"
     ]
    }
   ],
   "source": [
    "print(len(Z_source))\n",
    "print(len(Y_source))\n",
    "print(len(Z_train_source))\n",
    "print(len(Y_train_source))"
   ]
  },
  {
   "cell_type": "code",
   "execution_count": null,
   "metadata": {},
   "outputs": [
    {
     "data": {
      "text/plain": [
       "1672"
      ]
     },
     "execution_count": 85,
     "metadata": {},
     "output_type": "execute_result"
    }
   ],
   "source": [
    "np.array([tensor.item() for tensor in Y_test_source]).astype(int).sum()"
   ]
  },
  {
   "cell_type": "code",
   "execution_count": null,
   "metadata": {},
   "outputs": [],
   "source": [
    "source_train = {\"X\": Z_train_source, \"Y\": Y_train_source}\n",
    "target_train = {\"X\": Z_train_target, \"Y\": Y_train_target}\n",
    "test_data = {\"X\": Z_test_source}"
   ]
  },
  {
   "cell_type": "code",
   "execution_count": null,
   "metadata": {},
   "outputs": [
    {
     "name": "stderr",
     "output_type": "stream",
     "text": [
      "/Users/rickcollins64/opt/anaconda3/envs/MV00/lib/python3.9/site-packages/sklearn/random_projection.py:409: DataDimensionalityWarning: The number of components is higher than the number of features: n_features < n_components (2 < 16).The dimensionality of the problem will not be reduced.\n",
      "  warnings.warn(\n"
     ]
    },
    {
     "name": "stdout",
     "output_type": "stream",
     "text": [
      "Predictions using source model: [0.93372129 0.43652572 0.82862557 ... 0.93372129 0.80515792 0.43652572]\n"
     ]
    }
   ],
   "source": [
    "# Initialize the model\n",
    "covar_model = COVAR(alpha=1.0, kernel=\"rbf\", proj_dim=16)\n",
    "\n",
    "# Fit the model to the training data\n",
    "covar_model.fit(source_train, target_train)\n",
    "\n",
    "# Make predictions on the test data from the source domain\n",
    "predictions = covar_model.predict(test_data)\n",
    "\n",
    "print(\"Predictions using source model:\", predictions)"
   ]
  },
  {
   "cell_type": "code",
   "execution_count": null,
   "metadata": {},
   "outputs": [],
   "source": []
  },
  {
   "cell_type": "code",
   "execution_count": null,
   "metadata": {},
   "outputs": [
    {
     "name": "stdout",
     "output_type": "stream",
     "text": [
      "[1 0 1 ... 1 1 0]\n",
      "[1 0 1 ... 1 1 1]\n"
     ]
    }
   ],
   "source": [
    "# convert probabilities to predictions\n",
    "predictions_source_covar = (predictions >= 0.5).astype(int)\n",
    "\n",
    "binary_labels_test_source_covar = np.array([tensor.item() for tensor in Y_test_source]).astype(int)\n",
    "\n",
    "print(predictions_source_covar)\n",
    "print(binary_labels_test_source_covar)"
   ]
  },
  {
   "cell_type": "code",
   "execution_count": null,
   "metadata": {},
   "outputs": [
    {
     "name": "stdout",
     "output_type": "stream",
     "text": [
      "Accuracy of model on target training set: 0.8580\n",
      "Classification Report for Z:\n",
      "              precision    recall  f1-score   support\n",
      "\n",
      "           0       0.57      0.54      0.55       328\n",
      "           1       0.91      0.92      0.92      1672\n",
      "\n",
      "    accuracy                           0.86      2000\n",
      "   macro avg       0.74      0.73      0.73      2000\n",
      "weighted avg       0.85      0.86      0.86      2000\n",
      "\n"
     ]
    },
    {
     "data": {
      "image/png": "[encoded data removed]",
      "text/plain": [
       "<Figure size 800x600 with 2 Axes>"
      ]
     },
     "metadata": {},
     "output_type": "display_data"
    }
   ],
   "source": [
    "# Predict on the target domain training set using the target model\n",
    "# Z_train_pred_source = covar_model.predict_target({\"X\": Z_train_target})\n",
    "\n",
    "# Assuming binary_labels_target_array_Z contains the true labels for Z_train_target\n",
    "accuracy_covar = np.mean(binary_labels_test_source_covar == predictions_source_covar)\n",
    "print(f\"Accuracy of model on target training set: {accuracy_covar:.4f}\")\n",
    "\n",
    "# Compute confusion matrix and classification report\n",
    "cm_covar_source = confusion_matrix(binary_labels_test_source_covar, predictions_source_covar)\n",
    "print(\"Classification Report for Z:\")\n",
    "print(classification_report(binary_labels_test_source_covar, predictions_source_covar))\n",
    "\n",
    "# Plot the confusion matrix\n",
    "plt.figure(figsize=(8, 6))\n",
    "sns.heatmap(cm_covar_source, annot=True, fmt='d', cmap='Blues', xticklabels=['Class 0', 'Class 1'], yticklabels=['Class 0', 'Class 1'])\n",
    "plt.xlabel('Predicted')\n",
    "plt.ylabel('Actual')\n",
    "plt.title('Confusion Matrix for COVAR model on the test set')\n",
    "plt.show()"
   ]
  },
  {
   "cell_type": "code",
   "execution_count": null,
   "metadata": {},
   "outputs": [],
   "source": [
    "# LABEL SHIFT #"
   ]
  },
  {
   "cell_type": "code",
   "execution_count": null,
   "metadata": {},
   "outputs": [],
   "source": [
    "\"\"\"Implementation of label shift adaptation method.\"\"\"\n",
    "\n",
    "# Author: Nicole Chiou <nicchiou@stanford.edu>, Katherine Tsai <kt14@illinois.edu>\n",
    "# MIT License\n",
    "\n",
    "\n",
    "import numpy as np\n",
    "from sklearn.kernel_ridge import KernelRidge\n",
    "from sklearn.neighbors import KernelDensity\n",
    "from sklearn.preprocessing import normalize\n",
    "import cvxpy as cp\n",
    "import scipy\n",
    "\n",
    "\n",
    "class ConLABEL:\n",
    "    \"\"\"\n",
    "    Continuous label shift adaptation.\n",
    "\n",
    "    Zhang, K., Schölkopf, B., Muandet, K., & Wang, Z. (2013, May).\n",
    "    Domain adaptation under target and conditional shift.\n",
    "    In International conference on machine learning (pp. 819-827). PMLR.\n",
    "    \"\"\"\n",
    "\n",
    "    def __init__(self, lam, bp, alpha, kernel, kernel2):\n",
    "        self.lam = lam\n",
    "        self.bp = bp\n",
    "        self.kernel = kernel\n",
    "        self.label_model = KernelRidge(alpha=alpha, kernel=kernel2)\n",
    "\n",
    "    def fit(self, source_data, target_x):\n",
    "\n",
    "        # Learn the weight\n",
    "        K_Y = self.kernel(source_data[\"Y\"], source_data[\"Y\"])\n",
    "\n",
    "        K_X = self.kernel(source_data[\"X\"], source_data[\"X\"])\n",
    "        m1 = K_X.shape[0]\n",
    "\n",
    "        inv_KY = scipy.linalg.solve(K_Y + self.lam * np.eye(m1), np.eye(m1))\n",
    "        inv_KY_KY = np.einsum(\"ij,jk->ik\", inv_KY, K_Y)\n",
    "\n",
    "        K_X1X2 = self.kernel(source_data[\"X\"], target_x)\n",
    "        m2 = K_X1X2.shape[1]\n",
    "        A = inv_KY_KY.T @ K_X @ inv_KY_KY\n",
    "\n",
    "        B = K_X1X2.T @ inv_KY_KY\n",
    "        B = (m1 / m2) * B\n",
    "        B = np.sum(B, axis=0)\n",
    "        G = np.eye(m1)\n",
    "        G2 = -np.eye(m1)\n",
    "        x = cp.Variable(m1)\n",
    "        h = self.bp * np.ones(m1)\n",
    "        h2 = np.zeros(m1)\n",
    "        C = np.ones(m1)\n",
    "        eps = self.bp * np.sqrt(m1) / 4\n",
    "        print(\"start fitting\")\n",
    "        prob = cp.Problem(\n",
    "            cp.Minimize((1 / 2) * cp.quad_form(x, A) + B.T @ x),\n",
    "            [G @ x <= h, G2 @ x <= h2, C @ x <= eps + m1, -C @ x <= -m1 + eps],\n",
    "        )\n",
    "\n",
    "        prob.solve()\n",
    "        print(\"finished\")\n",
    "        print(f\"Problem status {prob.status}\")\n",
    "        beta = np.array(x.value)\n",
    "        idx = np.where(beta < 0)[0]\n",
    "        beta[idx] = 0\n",
    "        beta = normalize(beta[:, np.newaxis]).squeeze()\n",
    "        self.label_model.fit(\n",
    "            source_data[\"X\"],\n",
    "            source_data[\"Y\"],\n",
    "            sample_weight=beta,\n",
    "        )\n",
    "\n",
    "    def predict(self, test_data):\n",
    "        return self.label_model.predict(test_data)\n",
    "\n",
    "\n",
    "class LABEL:\n",
    "    \"\"\"\n",
    "    implementation of label shift adaptation method.\n",
    "    \"\"\"\n",
    "\n",
    "    def __init__(self, alpha, kernel=\"rbf\", kernel2=\"gaussian\", bandwidth=1):\n",
    "        self.source_kde = KernelDensity(kernel=kernel2, bandwidth=bandwidth)\n",
    "        self.target_kde = KernelDensity(kernel=kernel2, bandwidth=bandwidth)\n",
    "\n",
    "        self.source_label_model = KernelRidge(alpha=alpha, kernel=kernel)\n",
    "        self.target_label_model = KernelRidge(alpha=alpha, kernel=kernel)\n",
    "\n",
    "    def fit(self, source_train, source_val, target_train):\n",
    "        self.source_kde.fit(source_val[\"Y\"])\n",
    "        self.target_kde.fit(target_train[\"Y\"])\n",
    "\n",
    "        # Compute sample weights q(Y)/p(Y)\n",
    "        log_q_y = self.target_kde.score_samples(source_train[\"Y\"])\n",
    "        log_p_y = self.source_kde.score_samples(source_train[\"Y\"])\n",
    "\n",
    "        source_sample_weight_train = np.exp(log_q_y - log_p_y)\n",
    "\n",
    "        # Fit source model\n",
    "        self.source_label_model.fit(\n",
    "            source_train[\"X\"],\n",
    "            source_train[\"Y\"],\n",
    "            sample_weight=source_sample_weight_train,\n",
    "        )\n",
    "\n",
    "        # Compute sample weights p(Y)/q(Y)\n",
    "        target_sample_weight_train = np.exp(log_p_y - log_q_y)\n",
    "\n",
    "        # Fit target model\n",
    "        self.target_label_model.fit(\n",
    "            target_train[\"X\"],\n",
    "            target_train[\"Y\"],\n",
    "            sample_weight=target_sample_weight_train,\n",
    "        )\n",
    "\n",
    "    def predict(self, test_data):\n",
    "        return self.source_label_model.predict(test_data[\"X\"])\n",
    "\n",
    "    def predict_target(self, test_data):\n",
    "        return self.target_label_model.predict(test_data[\"X\"])"
   ]
  },
  {
   "cell_type": "code",
   "execution_count": null,
   "metadata": {},
   "outputs": [
    {
     "ename": "AttributeError",
     "evalue": "'list' object has no attribute 'reshape'",
     "output_type": "error",
     "traceback": [
      "\u001b[0;31m---------------------------------------------------------------------------\u001b[0m",
      "\u001b[0;31mAttributeError\u001b[0m                            Traceback (most recent call last)",
      "Cell \u001b[0;32mIn[92], line 9\u001b[0m\n\u001b[1;32m      6\u001b[0m binary_labels_test_source \u001b[38;5;241m=\u001b[39m np\u001b[38;5;241m.\u001b[39marray([tensor\u001b[38;5;241m.\u001b[39mitem() \u001b[38;5;28;01mfor\u001b[39;00m tensor \u001b[38;5;129;01min\u001b[39;00m Y_test_source])\n\u001b[1;32m      8\u001b[0m \u001b[38;5;66;03m# Reshape Y values to 2D arrays\u001b[39;00m\n\u001b[0;32m----> 9\u001b[0m source_val[\u001b[38;5;124m\"\u001b[39m\u001b[38;5;124mY\u001b[39m\u001b[38;5;124m\"\u001b[39m] \u001b[38;5;241m=\u001b[39m \u001b[43msource_val\u001b[49m\u001b[43m[\u001b[49m\u001b[38;5;124;43m\"\u001b[39;49m\u001b[38;5;124;43mY\u001b[39;49m\u001b[38;5;124;43m\"\u001b[39;49m\u001b[43m]\u001b[49m\u001b[38;5;241;43m.\u001b[39;49m\u001b[43mreshape\u001b[49m(\u001b[38;5;241m-\u001b[39m\u001b[38;5;241m1\u001b[39m, \u001b[38;5;241m1\u001b[39m)\n\u001b[1;32m     10\u001b[0m target_train[\u001b[38;5;124m\"\u001b[39m\u001b[38;5;124mY\u001b[39m\u001b[38;5;124m\"\u001b[39m] \u001b[38;5;241m=\u001b[39m target_train[\u001b[38;5;124m\"\u001b[39m\u001b[38;5;124mY\u001b[39m\u001b[38;5;124m\"\u001b[39m]\u001b[38;5;241m.\u001b[39mreshape(\u001b[38;5;241m-\u001b[39m\u001b[38;5;241m1\u001b[39m, \u001b[38;5;241m1\u001b[39m)\n\u001b[1;32m     11\u001b[0m source_train[\u001b[38;5;124m\"\u001b[39m\u001b[38;5;124mY\u001b[39m\u001b[38;5;124m\"\u001b[39m] \u001b[38;5;241m=\u001b[39m source_train[\u001b[38;5;124m\"\u001b[39m\u001b[38;5;124mY\u001b[39m\u001b[38;5;124m\"\u001b[39m]\u001b[38;5;241m.\u001b[39mreshape(\u001b[38;5;241m-\u001b[39m\u001b[38;5;241m1\u001b[39m, \u001b[38;5;241m1\u001b[39m)\n",
      "\u001b[0;31mAttributeError\u001b[0m: 'list' object has no attribute 'reshape'"
     ]
    }
   ],
   "source": [
    "# Prepare the data (ensure your data is correctly formatted)\n",
    "source_train = {\"X\": Z_train_source, \"Y\": Y_train_source}\n",
    "source_val = {\"Y\": Y_val_source}\n",
    "target_train = {\"X\": Z_train_target, \"Y\": Y_train_target}\n",
    "test_data_source = {\"X\": Z_test_source}\n",
    "binary_labels_test_source = np.array([tensor.item() for tensor in Y_test_source])\n",
    "\n",
    "# Reshape Y values to 2D arrays\n",
    "source_val[\"Y\"] = source_val[\"Y\"].reshape(-1, 1)\n",
    "target_train[\"Y\"] = target_train[\"Y\"].reshape(-1, 1)\n",
    "source_train[\"Y\"] = source_train[\"Y\"].reshape(-1, 1)\n",
    "binary_labels_test_source = binary_labels_test_source.reshape(-1, 1)\n",
    "\n",
    "# Initialize the LABEL model\n",
    "label_model = LABEL(alpha=1.0, kernel=\"rbf\", kernel2=\"gaussian\", bandwidth=1)\n",
    "\n",
    "# Fit the model to the training data\n",
    "label_model.fit(source_train, source_val, target_train)\n",
    "\n",
    "# Get the predicted probabilities from the LABEL model on the source domain test data\n",
    "prob_predictions_source = label_model.predict(test_data_source)\n",
    "# Convert probabilities to class labels using a threshold of 0.5\n",
    "predictions_source = (prob_predictions_source >= 0.5).astype(int)\n",
    "print(\"Predictions using LABEL model on source test data:\", predictions_source)\n",
    "\n",
    "# Ensure both are the same data type for comparison\n",
    "binary_labels_test_source = binary_labels_test_source.astype(int)\n",
    "\n",
    "# Evaluate the LABEL model on the source domain test data\n",
    "accuracy_label = accuracy_score(binary_labels_test_source, predictions_source)\n",
    "print(f\"Accuracy of LABEL model on source test data: {accuracy_label:.4f}\")\n",
    "\n",
    "# Compute confusion matrix and classification report for LABEL model\n",
    "cm_label_source = confusion_matrix(binary_labels_test_source, predictions_source)\n",
    "print(\"Classification Report for LABEL model on source test data:\")\n",
    "print(classification_report(binary_labels_test_source, predictions_source))\n",
    "\n",
    "# Plot the confusion matrix for LABEL model\n",
    "plt.figure(figsize=(8, 6))\n",
    "sns.heatmap(cm_label_source, annot=True, fmt='d', cmap='Blues', xticklabels=['Class 0', 'Class 1'], yticklabels=['Class 0', 'Class 1'])\n",
    "plt.xlabel('Predicted')\n",
    "plt.ylabel('Actual')\n",
    "plt.title('Confusion Matrix for LABEL model on source test data')\n",
    "plt.show()"
   ]
  },
  {
   "cell_type": "code",
   "execution_count": null,
   "metadata": {},
   "outputs": [],
   "source": []
  }
 ],
 "metadata": {
  "kernelspec": {
   "display_name": "MV00",
   "language": "python",
   "name": "python3"
  },
  "language_info": {
   "codemirror_mode": {
    "name": "ipython",
    "version": 3
   },
   "file_extension": ".py",
   "mimetype": "text/x-python",
   "name": "python",
   "nbconvert_exporter": "python",
   "pygments_lexer": "ipython3",
   "version": "3.9.18"
  }
 },
 "nbformat": 4,
 "nbformat_minor": 2
}
